{
 "cells": [
  {
   "cell_type": "markdown",
   "id": "928a4858",
   "metadata": {},
   "source": [
    "# Première analyse du jeu de données"
   ]
  },
  {
   "cell_type": "markdown",
   "id": "54184a65",
   "metadata": {},
   "source": [
    "## Importaiton des librairies"
   ]
  },
  {
   "cell_type": "code",
   "execution_count": 1,
   "id": "50801619",
   "metadata": {},
   "outputs": [],
   "source": [
    "import pandas as pd\n",
    "import numpy as np\n",
    "import matplotlib.pyplot as plt"
   ]
  },
  {
   "cell_type": "markdown",
   "id": "ec958dcc",
   "metadata": {},
   "source": [
    "## Chargement des données"
   ]
  },
  {
   "cell_type": "code",
   "execution_count": 2,
   "id": "9b2328ae",
   "metadata": {},
   "outputs": [
    {
     "data": {
      "text/html": [
       "<div>\n",
       "<style scoped>\n",
       "    .dataframe tbody tr th:only-of-type {\n",
       "        vertical-align: middle;\n",
       "    }\n",
       "\n",
       "    .dataframe tbody tr th {\n",
       "        vertical-align: top;\n",
       "    }\n",
       "\n",
       "    .dataframe thead th {\n",
       "        text-align: right;\n",
       "    }\n",
       "</style>\n",
       "<table border=\"1\" class=\"dataframe\">\n",
       "  <thead>\n",
       "    <tr style=\"text-align: right;\">\n",
       "      <th></th>\n",
       "      <th>Rank</th>\n",
       "      <th>Name</th>\n",
       "      <th>Platform</th>\n",
       "      <th>Year</th>\n",
       "      <th>Genre</th>\n",
       "      <th>Publisher</th>\n",
       "      <th>NA_Sales</th>\n",
       "      <th>EU_Sales</th>\n",
       "      <th>JP_Sales</th>\n",
       "      <th>Other_Sales</th>\n",
       "      <th>Global_Sales</th>\n",
       "    </tr>\n",
       "  </thead>\n",
       "  <tbody>\n",
       "    <tr>\n",
       "      <th>0</th>\n",
       "      <td>1</td>\n",
       "      <td>Wii Sports</td>\n",
       "      <td>Wii</td>\n",
       "      <td>2006.0</td>\n",
       "      <td>Sports</td>\n",
       "      <td>Nintendo</td>\n",
       "      <td>41.49</td>\n",
       "      <td>29.02</td>\n",
       "      <td>3.77</td>\n",
       "      <td>8.46</td>\n",
       "      <td>82.74</td>\n",
       "    </tr>\n",
       "    <tr>\n",
       "      <th>1</th>\n",
       "      <td>2</td>\n",
       "      <td>Super Mario Bros.</td>\n",
       "      <td>NES</td>\n",
       "      <td>1985.0</td>\n",
       "      <td>Platform</td>\n",
       "      <td>Nintendo</td>\n",
       "      <td>29.08</td>\n",
       "      <td>3.58</td>\n",
       "      <td>6.81</td>\n",
       "      <td>0.77</td>\n",
       "      <td>40.24</td>\n",
       "    </tr>\n",
       "    <tr>\n",
       "      <th>2</th>\n",
       "      <td>3</td>\n",
       "      <td>Mario Kart Wii</td>\n",
       "      <td>Wii</td>\n",
       "      <td>2008.0</td>\n",
       "      <td>Racing</td>\n",
       "      <td>Nintendo</td>\n",
       "      <td>15.85</td>\n",
       "      <td>12.88</td>\n",
       "      <td>3.79</td>\n",
       "      <td>3.31</td>\n",
       "      <td>35.82</td>\n",
       "    </tr>\n",
       "    <tr>\n",
       "      <th>3</th>\n",
       "      <td>4</td>\n",
       "      <td>Wii Sports Resort</td>\n",
       "      <td>Wii</td>\n",
       "      <td>2009.0</td>\n",
       "      <td>Sports</td>\n",
       "      <td>Nintendo</td>\n",
       "      <td>15.75</td>\n",
       "      <td>11.01</td>\n",
       "      <td>3.28</td>\n",
       "      <td>2.96</td>\n",
       "      <td>33.00</td>\n",
       "    </tr>\n",
       "    <tr>\n",
       "      <th>4</th>\n",
       "      <td>5</td>\n",
       "      <td>Pokemon Red/Pokemon Blue</td>\n",
       "      <td>GB</td>\n",
       "      <td>1996.0</td>\n",
       "      <td>Role-Playing</td>\n",
       "      <td>Nintendo</td>\n",
       "      <td>11.27</td>\n",
       "      <td>8.89</td>\n",
       "      <td>10.22</td>\n",
       "      <td>1.00</td>\n",
       "      <td>31.37</td>\n",
       "    </tr>\n",
       "  </tbody>\n",
       "</table>\n",
       "</div>"
      ],
      "text/plain": [
       "   Rank                      Name Platform    Year         Genre Publisher  \\\n",
       "0     1                Wii Sports      Wii  2006.0        Sports  Nintendo   \n",
       "1     2         Super Mario Bros.      NES  1985.0      Platform  Nintendo   \n",
       "2     3            Mario Kart Wii      Wii  2008.0        Racing  Nintendo   \n",
       "3     4         Wii Sports Resort      Wii  2009.0        Sports  Nintendo   \n",
       "4     5  Pokemon Red/Pokemon Blue       GB  1996.0  Role-Playing  Nintendo   \n",
       "\n",
       "   NA_Sales  EU_Sales  JP_Sales  Other_Sales  Global_Sales  \n",
       "0     41.49     29.02      3.77         8.46         82.74  \n",
       "1     29.08      3.58      6.81         0.77         40.24  \n",
       "2     15.85     12.88      3.79         3.31         35.82  \n",
       "3     15.75     11.01      3.28         2.96         33.00  \n",
       "4     11.27      8.89     10.22         1.00         31.37  "
      ]
     },
     "execution_count": 2,
     "metadata": {},
     "output_type": "execute_result"
    }
   ],
   "source": [
    "data = pd.read_csv(\"./vgsales.csv\")\n",
    "data.head() # affichages des 5 premières observation des datas"
   ]
  },
  {
   "cell_type": "code",
   "execution_count": 3,
   "id": "76dac4aa",
   "metadata": {},
   "outputs": [
    {
     "name": "stdout",
     "output_type": "stream",
     "text": [
      "<class 'pandas.core.frame.DataFrame'>\n",
      "RangeIndex: 16598 entries, 0 to 16597\n",
      "Data columns (total 11 columns):\n",
      " #   Column        Non-Null Count  Dtype  \n",
      "---  ------        --------------  -----  \n",
      " 0   Rank          16598 non-null  int64  \n",
      " 1   Name          16598 non-null  object \n",
      " 2   Platform      16598 non-null  object \n",
      " 3   Year          16327 non-null  float64\n",
      " 4   Genre         16598 non-null  object \n",
      " 5   Publisher     16540 non-null  object \n",
      " 6   NA_Sales      16598 non-null  float64\n",
      " 7   EU_Sales      16598 non-null  float64\n",
      " 8   JP_Sales      16598 non-null  float64\n",
      " 9   Other_Sales   16598 non-null  float64\n",
      " 10  Global_Sales  16598 non-null  float64\n",
      "dtypes: float64(6), int64(1), object(4)\n",
      "memory usage: 1.4+ MB\n"
     ]
    }
   ],
   "source": [
    "data.info() # information générale du DataSet"
   ]
  },
  {
   "cell_type": "code",
   "execution_count": 4,
   "id": "cb2c9daa",
   "metadata": {},
   "outputs": [],
   "source": [
    "data[\"Year\"] = data[\"Year\"].astype(pd.Int32Dtype()) # conversion dtype colonne float64 en int32 (Int32Dtype prend en charge les NaN)"
   ]
  },
  {
   "cell_type": "code",
   "execution_count": 5,
   "id": "a4730253",
   "metadata": {},
   "outputs": [
    {
     "name": "stdout",
     "output_type": "stream",
     "text": [
      "<class 'pandas.core.frame.DataFrame'>\n",
      "RangeIndex: 16598 entries, 0 to 16597\n",
      "Data columns (total 11 columns):\n",
      " #   Column        Non-Null Count  Dtype  \n",
      "---  ------        --------------  -----  \n",
      " 0   Rank          16598 non-null  int64  \n",
      " 1   Name          16598 non-null  object \n",
      " 2   Platform      16598 non-null  object \n",
      " 3   Year          16327 non-null  Int32  \n",
      " 4   Genre         16598 non-null  object \n",
      " 5   Publisher     16540 non-null  object \n",
      " 6   NA_Sales      16598 non-null  float64\n",
      " 7   EU_Sales      16598 non-null  float64\n",
      " 8   JP_Sales      16598 non-null  float64\n",
      " 9   Other_Sales   16598 non-null  float64\n",
      " 10  Global_Sales  16598 non-null  float64\n",
      "dtypes: Int32(1), float64(5), int64(1), object(4)\n",
      "memory usage: 1.3+ MB\n",
      "None\n",
      "===================\n",
      "0        2006\n",
      "1        1985\n",
      "2        2008\n",
      "3        2009\n",
      "4        1996\n",
      "         ... \n",
      "16593    2002\n",
      "16594    2003\n",
      "16595    2008\n",
      "16596    2010\n",
      "16597    2003\n",
      "Name: Year, Length: 16598, dtype: Int32\n"
     ]
    }
   ],
   "source": [
    "print(data.info())\n",
    "print(\"===================\")\n",
    "print(data[\"Year\"])"
   ]
  },
  {
   "cell_type": "markdown",
   "id": "578204b4",
   "metadata": {},
   "source": [
    "## Extraction des années et formatage (AAAA-MM-DD)"
   ]
  },
  {
   "cell_type": "code",
   "execution_count": 6,
   "id": "8f85d2c7",
   "metadata": {},
   "outputs": [],
   "source": [
    "year = data[\"Year\"].unique()"
   ]
  },
  {
   "cell_type": "code",
   "execution_count": 7,
   "id": "fb0376b9",
   "metadata": {},
   "outputs": [
    {
     "name": "stdout",
     "output_type": "stream",
     "text": [
      "[1980 1981 1982 1983 1984 1985 1986 1987 1988 1989 1990 1991 1992 1993\n",
      " 1994 1995 1996 1997 1998 1999 2000 2001 2002 2003 2004 2005 2006 2007\n",
      " 2008 2009 2010 2011 2012 2013 2014 2015 2016 2017 2020]\n"
     ]
    }
   ],
   "source": [
    "year = np.sort(year[~np.isnan(year)])\n",
    "# year = np.datetime64(year.astype(\"str\"))\n",
    "print(year)"
   ]
  },
  {
   "cell_type": "code",
   "execution_count": 8,
   "id": "994ce855",
   "metadata": {},
   "outputs": [],
   "source": [
    "# np.savetxt('annees.csv', year, delimiter=\",\")"
   ]
  },
  {
   "cell_type": "code",
   "execution_count": 9,
   "id": "e5d873b8",
   "metadata": {},
   "outputs": [],
   "source": [
    "# year = pd.DataFrame(year.astype(\"str\"), columns = [\"year\"])\n",
    "# year.to_csv(\"annees.csv\", index=False, header=False)"
   ]
  },
  {
   "cell_type": "markdown",
   "id": "05ae6d0b",
   "metadata": {},
   "source": [
    "## Création du fichier csv pour la bdd"
   ]
  },
  {
   "cell_type": "code",
   "execution_count": 10,
   "id": "f99b86e1",
   "metadata": {},
   "outputs": [],
   "source": [
    "calendar = pd.DataFrame(year.copy().astype(\"str\"), columns=[\"year\"])"
   ]
  },
  {
   "cell_type": "code",
   "execution_count": 11,
   "id": "44bb4644",
   "metadata": {},
   "outputs": [],
   "source": [
    "calendar[\"month\"] = \"01\"\n",
    "calendar[\"day\"] = \"01\""
   ]
  },
  {
   "cell_type": "code",
   "execution_count": 12,
   "id": "13775c2c",
   "metadata": {},
   "outputs": [
    {
     "name": "stdout",
     "output_type": "stream",
     "text": [
      "<class 'pandas.core.frame.DataFrame'>\n",
      "RangeIndex: 39 entries, 0 to 38\n",
      "Data columns (total 3 columns):\n",
      " #   Column  Non-Null Count  Dtype \n",
      "---  ------  --------------  ----- \n",
      " 0   year    39 non-null     object\n",
      " 1   month   39 non-null     object\n",
      " 2   day     39 non-null     object\n",
      "dtypes: object(3)\n",
      "memory usage: 1.0+ KB\n"
     ]
    }
   ],
   "source": [
    "calendar.info()"
   ]
  },
  {
   "cell_type": "code",
   "execution_count": 13,
   "id": "47bc751b",
   "metadata": {},
   "outputs": [],
   "source": [
    "annees = pd.to_datetime(calendar).astype(\"str\").rename(\"id_calendrier\")"
   ]
  },
  {
   "cell_type": "code",
   "execution_count": 14,
   "id": "544637d6",
   "metadata": {},
   "outputs": [],
   "source": [
    "annees.to_csv(\"./CSV_2DB/annees.csv\", index=False, header=True)\n",
    "# annees.index +=1"
   ]
  },
  {
   "cell_type": "code",
   "execution_count": 15,
   "id": "7606da44",
   "metadata": {},
   "outputs": [
    {
     "data": {
      "text/plain": [
       "{1980: '1980-01-01',\n",
       " 1981: '1981-01-01',\n",
       " 1982: '1982-01-01',\n",
       " 1983: '1983-01-01',\n",
       " 1984: '1984-01-01',\n",
       " 1985: '1985-01-01',\n",
       " 1986: '1986-01-01',\n",
       " 1987: '1987-01-01',\n",
       " 1988: '1988-01-01',\n",
       " 1989: '1989-01-01',\n",
       " 1990: '1990-01-01',\n",
       " 1991: '1991-01-01',\n",
       " 1992: '1992-01-01',\n",
       " 1993: '1993-01-01',\n",
       " 1994: '1994-01-01',\n",
       " 1995: '1995-01-01',\n",
       " 1996: '1996-01-01',\n",
       " 1997: '1997-01-01',\n",
       " 1998: '1998-01-01',\n",
       " 1999: '1999-01-01',\n",
       " 2000: '2000-01-01',\n",
       " 2001: '2001-01-01',\n",
       " 2002: '2002-01-01',\n",
       " 2003: '2003-01-01',\n",
       " 2004: '2004-01-01',\n",
       " 2005: '2005-01-01',\n",
       " 2006: '2006-01-01',\n",
       " 2007: '2007-01-01',\n",
       " 2008: '2008-01-01',\n",
       " 2009: '2009-01-01',\n",
       " 2010: '2010-01-01',\n",
       " 2011: '2011-01-01',\n",
       " 2012: '2012-01-01',\n",
       " 2013: '2013-01-01',\n",
       " 2014: '2014-01-01',\n",
       " 2015: '2015-01-01',\n",
       " 2016: '2016-01-01',\n",
       " 2017: '2017-01-01',\n",
       " 2020: '2020-01-01'}"
      ]
     },
     "execution_count": 15,
     "metadata": {},
     "output_type": "execute_result"
    }
   ],
   "source": [
    "jeux = data.copy()\n",
    "\n",
    "# year = np.sort(year[~np.isnan(year)])\n",
    "year_kv = dict((k, v) for v, k in zip(annees, year))\n",
    "# year_kv_formated = dict((k, v) for v, k in enumerate(annees, 1))\n",
    "year_kv"
   ]
  },
  {
   "cell_type": "code",
   "execution_count": 16,
   "id": "7f7f126f",
   "metadata": {},
   "outputs": [],
   "source": [
    "jeux[\"Year\"] = jeux[\"Year\"].replace(year_kv)\n",
    "# jeux[\"Year\"] = jeux[\"Year\"].replace(year_kv_formated)"
   ]
  },
  {
   "cell_type": "code",
   "execution_count": 17,
   "id": "47ce2b44",
   "metadata": {},
   "outputs": [
    {
     "data": {
      "text/html": [
       "<div>\n",
       "<style scoped>\n",
       "    .dataframe tbody tr th:only-of-type {\n",
       "        vertical-align: middle;\n",
       "    }\n",
       "\n",
       "    .dataframe tbody tr th {\n",
       "        vertical-align: top;\n",
       "    }\n",
       "\n",
       "    .dataframe thead th {\n",
       "        text-align: right;\n",
       "    }\n",
       "</style>\n",
       "<table border=\"1\" class=\"dataframe\">\n",
       "  <thead>\n",
       "    <tr style=\"text-align: right;\">\n",
       "      <th></th>\n",
       "      <th>Rank</th>\n",
       "      <th>Name</th>\n",
       "      <th>Platform</th>\n",
       "      <th>Year</th>\n",
       "      <th>Genre</th>\n",
       "      <th>Publisher</th>\n",
       "      <th>NA_Sales</th>\n",
       "      <th>EU_Sales</th>\n",
       "      <th>JP_Sales</th>\n",
       "      <th>Other_Sales</th>\n",
       "      <th>Global_Sales</th>\n",
       "    </tr>\n",
       "  </thead>\n",
       "  <tbody>\n",
       "    <tr>\n",
       "      <th>0</th>\n",
       "      <td>1</td>\n",
       "      <td>Wii Sports</td>\n",
       "      <td>Wii</td>\n",
       "      <td>2006-01-01</td>\n",
       "      <td>Sports</td>\n",
       "      <td>Nintendo</td>\n",
       "      <td>41.49</td>\n",
       "      <td>29.02</td>\n",
       "      <td>3.77</td>\n",
       "      <td>8.46</td>\n",
       "      <td>82.74</td>\n",
       "    </tr>\n",
       "    <tr>\n",
       "      <th>1</th>\n",
       "      <td>2</td>\n",
       "      <td>Super Mario Bros.</td>\n",
       "      <td>NES</td>\n",
       "      <td>1985-01-01</td>\n",
       "      <td>Platform</td>\n",
       "      <td>Nintendo</td>\n",
       "      <td>29.08</td>\n",
       "      <td>3.58</td>\n",
       "      <td>6.81</td>\n",
       "      <td>0.77</td>\n",
       "      <td>40.24</td>\n",
       "    </tr>\n",
       "    <tr>\n",
       "      <th>2</th>\n",
       "      <td>3</td>\n",
       "      <td>Mario Kart Wii</td>\n",
       "      <td>Wii</td>\n",
       "      <td>2008-01-01</td>\n",
       "      <td>Racing</td>\n",
       "      <td>Nintendo</td>\n",
       "      <td>15.85</td>\n",
       "      <td>12.88</td>\n",
       "      <td>3.79</td>\n",
       "      <td>3.31</td>\n",
       "      <td>35.82</td>\n",
       "    </tr>\n",
       "    <tr>\n",
       "      <th>3</th>\n",
       "      <td>4</td>\n",
       "      <td>Wii Sports Resort</td>\n",
       "      <td>Wii</td>\n",
       "      <td>2009-01-01</td>\n",
       "      <td>Sports</td>\n",
       "      <td>Nintendo</td>\n",
       "      <td>15.75</td>\n",
       "      <td>11.01</td>\n",
       "      <td>3.28</td>\n",
       "      <td>2.96</td>\n",
       "      <td>33.00</td>\n",
       "    </tr>\n",
       "    <tr>\n",
       "      <th>4</th>\n",
       "      <td>5</td>\n",
       "      <td>Pokemon Red/Pokemon Blue</td>\n",
       "      <td>GB</td>\n",
       "      <td>1996-01-01</td>\n",
       "      <td>Role-Playing</td>\n",
       "      <td>Nintendo</td>\n",
       "      <td>11.27</td>\n",
       "      <td>8.89</td>\n",
       "      <td>10.22</td>\n",
       "      <td>1.00</td>\n",
       "      <td>31.37</td>\n",
       "    </tr>\n",
       "    <tr>\n",
       "      <th>...</th>\n",
       "      <td>...</td>\n",
       "      <td>...</td>\n",
       "      <td>...</td>\n",
       "      <td>...</td>\n",
       "      <td>...</td>\n",
       "      <td>...</td>\n",
       "      <td>...</td>\n",
       "      <td>...</td>\n",
       "      <td>...</td>\n",
       "      <td>...</td>\n",
       "      <td>...</td>\n",
       "    </tr>\n",
       "    <tr>\n",
       "      <th>16593</th>\n",
       "      <td>16596</td>\n",
       "      <td>Woody Woodpecker in Crazy Castle 5</td>\n",
       "      <td>GBA</td>\n",
       "      <td>2002-01-01</td>\n",
       "      <td>Platform</td>\n",
       "      <td>Kemco</td>\n",
       "      <td>0.01</td>\n",
       "      <td>0.00</td>\n",
       "      <td>0.00</td>\n",
       "      <td>0.00</td>\n",
       "      <td>0.01</td>\n",
       "    </tr>\n",
       "    <tr>\n",
       "      <th>16594</th>\n",
       "      <td>16597</td>\n",
       "      <td>Men in Black II: Alien Escape</td>\n",
       "      <td>GC</td>\n",
       "      <td>2003-01-01</td>\n",
       "      <td>Shooter</td>\n",
       "      <td>Infogrames</td>\n",
       "      <td>0.01</td>\n",
       "      <td>0.00</td>\n",
       "      <td>0.00</td>\n",
       "      <td>0.00</td>\n",
       "      <td>0.01</td>\n",
       "    </tr>\n",
       "    <tr>\n",
       "      <th>16595</th>\n",
       "      <td>16598</td>\n",
       "      <td>SCORE International Baja 1000: The Official Game</td>\n",
       "      <td>PS2</td>\n",
       "      <td>2008-01-01</td>\n",
       "      <td>Racing</td>\n",
       "      <td>Activision</td>\n",
       "      <td>0.00</td>\n",
       "      <td>0.00</td>\n",
       "      <td>0.00</td>\n",
       "      <td>0.00</td>\n",
       "      <td>0.01</td>\n",
       "    </tr>\n",
       "    <tr>\n",
       "      <th>16596</th>\n",
       "      <td>16599</td>\n",
       "      <td>Know How 2</td>\n",
       "      <td>DS</td>\n",
       "      <td>2010-01-01</td>\n",
       "      <td>Puzzle</td>\n",
       "      <td>7G//AMES</td>\n",
       "      <td>0.00</td>\n",
       "      <td>0.01</td>\n",
       "      <td>0.00</td>\n",
       "      <td>0.00</td>\n",
       "      <td>0.01</td>\n",
       "    </tr>\n",
       "    <tr>\n",
       "      <th>16597</th>\n",
       "      <td>16600</td>\n",
       "      <td>Spirits &amp; Spells</td>\n",
       "      <td>GBA</td>\n",
       "      <td>2003-01-01</td>\n",
       "      <td>Platform</td>\n",
       "      <td>Wanadoo</td>\n",
       "      <td>0.01</td>\n",
       "      <td>0.00</td>\n",
       "      <td>0.00</td>\n",
       "      <td>0.00</td>\n",
       "      <td>0.01</td>\n",
       "    </tr>\n",
       "  </tbody>\n",
       "</table>\n",
       "<p>16598 rows × 11 columns</p>\n",
       "</div>"
      ],
      "text/plain": [
       "        Rank                                              Name Platform  \\\n",
       "0          1                                        Wii Sports      Wii   \n",
       "1          2                                 Super Mario Bros.      NES   \n",
       "2          3                                    Mario Kart Wii      Wii   \n",
       "3          4                                 Wii Sports Resort      Wii   \n",
       "4          5                          Pokemon Red/Pokemon Blue       GB   \n",
       "...      ...                                               ...      ...   \n",
       "16593  16596                Woody Woodpecker in Crazy Castle 5      GBA   \n",
       "16594  16597                     Men in Black II: Alien Escape       GC   \n",
       "16595  16598  SCORE International Baja 1000: The Official Game      PS2   \n",
       "16596  16599                                        Know How 2       DS   \n",
       "16597  16600                                  Spirits & Spells      GBA   \n",
       "\n",
       "             Year         Genre   Publisher  NA_Sales  EU_Sales  JP_Sales  \\\n",
       "0      2006-01-01        Sports    Nintendo     41.49     29.02      3.77   \n",
       "1      1985-01-01      Platform    Nintendo     29.08      3.58      6.81   \n",
       "2      2008-01-01        Racing    Nintendo     15.85     12.88      3.79   \n",
       "3      2009-01-01        Sports    Nintendo     15.75     11.01      3.28   \n",
       "4      1996-01-01  Role-Playing    Nintendo     11.27      8.89     10.22   \n",
       "...           ...           ...         ...       ...       ...       ...   \n",
       "16593  2002-01-01      Platform       Kemco      0.01      0.00      0.00   \n",
       "16594  2003-01-01       Shooter  Infogrames      0.01      0.00      0.00   \n",
       "16595  2008-01-01        Racing  Activision      0.00      0.00      0.00   \n",
       "16596  2010-01-01        Puzzle    7G//AMES      0.00      0.01      0.00   \n",
       "16597  2003-01-01      Platform     Wanadoo      0.01      0.00      0.00   \n",
       "\n",
       "       Other_Sales  Global_Sales  \n",
       "0             8.46         82.74  \n",
       "1             0.77         40.24  \n",
       "2             3.31         35.82  \n",
       "3             2.96         33.00  \n",
       "4             1.00         31.37  \n",
       "...            ...           ...  \n",
       "16593         0.00          0.01  \n",
       "16594         0.00          0.01  \n",
       "16595         0.00          0.01  \n",
       "16596         0.00          0.01  \n",
       "16597         0.00          0.01  \n",
       "\n",
       "[16598 rows x 11 columns]"
      ]
     },
     "execution_count": 17,
     "metadata": {},
     "output_type": "execute_result"
    }
   ],
   "source": [
    "jeux"
   ]
  },
  {
   "cell_type": "code",
   "execution_count": 18,
   "id": "ef1c73c1",
   "metadata": {},
   "outputs": [],
   "source": [
    "# LOAD DATA LOCAL INFILE './annees.csv' \n",
    "# INTO TABLE calendrier\n",
    "# FIELDS TERMINATED BY ','\n",
    "# ENCLOSED BY '\"'\n",
    "# LINES TERMINATED BY '\\n'\n",
    "# IGNORE 1 ROWS;"
   ]
  },
  {
   "cell_type": "markdown",
   "id": "f693e927",
   "metadata": {},
   "source": [
    "## Extraction \"Plateform\" vers un CSV"
   ]
  },
  {
   "cell_type": "code",
   "execution_count": 19,
   "id": "3c04e06d",
   "metadata": {},
   "outputs": [
    {
     "data": {
      "text/plain": [
       "array(['2600', '3DO', '3DS', 'DC', 'DS', 'GB', 'GBA', 'GC', 'GEN', 'GG',\n",
       "       'N64', 'NES', 'NG', 'PC', 'PCFX', 'PS', 'PS2', 'PS3', 'PS4', 'PSP',\n",
       "       'PSV', 'SAT', 'SCD', 'SNES', 'TG16', 'WS', 'Wii', 'WiiU', 'X360',\n",
       "       'XB', 'XOne'], dtype=object)"
      ]
     },
     "execution_count": 19,
     "metadata": {},
     "output_type": "execute_result"
    }
   ],
   "source": [
    "console = data[\"Platform\"].unique() # Extraction des valeurs console unique\n",
    "console = np.sort(console) # Trie des valeurs\n",
    "console"
   ]
  },
  {
   "cell_type": "code",
   "execution_count": 20,
   "id": "8a48dad7",
   "metadata": {},
   "outputs": [
    {
     "name": "stdout",
     "output_type": "stream",
     "text": [
      "{'2600': 1, '3DO': 2, '3DS': 3, 'DC': 4, 'DS': 5, 'GB': 6, 'GBA': 7, 'GC': 8, 'GEN': 9, 'GG': 10, 'N64': 11, 'NES': 12, 'NG': 13, 'PC': 14, 'PCFX': 15, 'PS': 16, 'PS2': 17, 'PS3': 18, 'PS4': 19, 'PSP': 20, 'PSV': 21, 'SAT': 22, 'SCD': 23, 'SNES': 24, 'TG16': 25, 'WS': 26, 'Wii': 27, 'WiiU': 28, 'X360': 29, 'XB': 30, 'XOne': 31}\n"
     ]
    }
   ],
   "source": [
    "console_kv = dict((k, v) for v, k in enumerate(console, 1)) # mise des données sous forme de dictionnaire\n",
    "print(console_kv)"
   ]
  },
  {
   "cell_type": "code",
   "execution_count": 21,
   "id": "227991cf",
   "metadata": {},
   "outputs": [],
   "source": [
    "jeux[\"Platform\"] = jeux[\"Platform\"].replace(console_kv)"
   ]
  },
  {
   "cell_type": "code",
   "execution_count": 22,
   "id": "ec1b09e2",
   "metadata": {},
   "outputs": [],
   "source": [
    "console = pd.Series(console, name=\"nom_console\")\n",
    "console.to_csv(\"./CSV_2DB/consoles.csv\", index=False, header=True)"
   ]
  },
  {
   "cell_type": "markdown",
   "id": "4ab5e5f8",
   "metadata": {},
   "source": [
    "## Extraction \"Genre\" vers un CSV"
   ]
  },
  {
   "cell_type": "code",
   "execution_count": 23,
   "id": "5882401e",
   "metadata": {},
   "outputs": [
    {
     "data": {
      "text/plain": [
       "array(['Action', 'Adventure', 'Fighting', 'Misc', 'Platform', 'Puzzle',\n",
       "       'Racing', 'Role-Playing', 'Shooter', 'Simulation', 'Sports',\n",
       "       'Strategy'], dtype=object)"
      ]
     },
     "execution_count": 23,
     "metadata": {},
     "output_type": "execute_result"
    }
   ],
   "source": [
    "genre = data[\"Genre\"].unique() # Extraction des valeurs console unique\n",
    "genre = np.sort(genre) # Trie des valeurs\n",
    "genre"
   ]
  },
  {
   "cell_type": "code",
   "execution_count": 24,
   "id": "f9e26061",
   "metadata": {},
   "outputs": [
    {
     "name": "stdout",
     "output_type": "stream",
     "text": [
      "{'Action': 1, 'Adventure': 2, 'Fighting': 3, 'Misc': 4, 'Platform': 5, 'Puzzle': 6, 'Racing': 7, 'Role-Playing': 8, 'Shooter': 9, 'Simulation': 10, 'Sports': 11, 'Strategy': 12}\n"
     ]
    }
   ],
   "source": [
    "genre_kv = dict((k, v) for v, k in enumerate(genre, 1)) # mise des données sous forme de dictionnaire\n",
    "print(genre_kv)"
   ]
  },
  {
   "cell_type": "code",
   "execution_count": 25,
   "id": "25801d5e",
   "metadata": {},
   "outputs": [],
   "source": [
    "jeux[\"Genre\"] = jeux[\"Genre\"].replace(genre_kv)"
   ]
  },
  {
   "cell_type": "code",
   "execution_count": 26,
   "id": "20cb4041",
   "metadata": {},
   "outputs": [],
   "source": [
    "genre = pd.Series(genre, name=\"nom_genre\")\n",
    "genre.to_csv(\"./CSV_2DB/genres.csv\", index=False, header=True)"
   ]
  },
  {
   "cell_type": "markdown",
   "id": "070784b2",
   "metadata": {},
   "source": [
    "## Extraction \"Publisher\" vers un CSV"
   ]
  },
  {
   "cell_type": "code",
   "execution_count": 27,
   "id": "dfadcefa",
   "metadata": {},
   "outputs": [
    {
     "data": {
      "text/plain": [
       "array(['10TACLE Studios', '1C Company', '20th Century Fox Video Games',\n",
       "       '2D Boy', '3DO', '49Games', '505 Games', '5pb', '7G//AMES',\n",
       "       '989 Sports', '989 Studios', 'AQ Interactive', 'ASC Games',\n",
       "       'ASCII Entertainment', 'ASCII Media Works', 'ASK', 'Abylight',\n",
       "       'Acclaim Entertainment', 'Accolade', 'Ackkstudios', 'Acquire',\n",
       "       'Activision', 'Activision Blizzard', 'Activision Value',\n",
       "       'Adeline Software', 'Aerosoft', 'Agatsuma Entertainment', 'Agetec',\n",
       "       'Aksys Games', 'Alawar Entertainment', 'Alchemist',\n",
       "       'Alternative Software', 'Altron', 'Alvion', 'American Softworks',\n",
       "       'Angel Studios', 'Answer Software', 'Aqua Plus', 'Aques',\n",
       "       'Arc System Works', 'Arena Entertainment', 'Aria', 'Arika',\n",
       "       'ArtDink', 'Aruze Corp', 'Ascaron Entertainment',\n",
       "       'Ascaron Entertainment GmbH', 'Asgard', 'Asmik Ace Entertainment',\n",
       "       'Asmik Corp', 'Aspyr', 'Astragon', 'Asylum Entertainment', 'Atari',\n",
       "       'Athena', 'Atlus', 'Avalon Interactive', 'Avanquest',\n",
       "       'Avanquest Software', 'Axela', 'BAM! Entertainment',\n",
       "       'BMG Interactive Entertainment', 'BPS', 'Banpresto', 'Benesse',\n",
       "       'Berkeley', 'Bethesda Softworks', 'Big Ben Interactive',\n",
       "       'Big Fish Games', 'Bigben Interactive', 'Black Bean Games',\n",
       "       'Black Label Games', 'Blast! Entertainment Ltd', 'Blue Byte',\n",
       "       'Bohemia Interactive', 'Bomb', 'Boost On', 'Brash Entertainment',\n",
       "       'Broccoli', 'BushiRoad', 'CBS Electronics', 'CCP',\n",
       "       'CDV Software Entertainment', 'CPG Products', 'CTO SpA', 'Capcom',\n",
       "       'Cave', 'ChunSoft', 'City Interactive',\n",
       "       'Cloud Imperium Games Corporation', 'Coconuts Japan',\n",
       "       'Codemasters', 'Codemasters Online', 'CokeM Interactive', 'Coleco',\n",
       "       'Comfort', 'Commseed', 'Compile', 'Compile Heart',\n",
       "       'Conspiracy Entertainment', 'Core Design Ltd.',\n",
       "       'Crave Entertainment', 'Creative Core', 'Crimson Cow',\n",
       "       'Crystal Dynamics', 'Culture Brain', 'Culture Publishers',\n",
       "       'CyberFront', 'Cygames', 'D3Publisher', 'DHM Interactive',\n",
       "       'DSI Games', 'DTP Entertainment', 'Daedalic',\n",
       "       'Daedalic Entertainment', 'Daito', 'Data Age',\n",
       "       'Data Design Interactive', 'Data East', 'Datam Polystar',\n",
       "       'Deep Silver', 'Destination Software, Inc', 'Destineer',\n",
       "       'Detn8 Games', 'Devolver Digital', 'DigiCube',\n",
       "       'Disney Interactive Studios', 'Dorart', 'DreamCatcher Interactive',\n",
       "       'DreamWorks Interactive', 'Dusenberry Martin Racing', 'EA Games',\n",
       "       'EON Digital Entertainment', 'ESP', 'Easy Interactive', 'Ecole',\n",
       "       'Edia', 'Eidos Interactive', 'Electronic Arts',\n",
       "       'Electronic Arts Victor', 'Elf', 'Elite', 'Empire Interactive',\n",
       "       'Encore', 'Enix Corporation', 'Enjoy Gaming ltd.', 'Enterbrain',\n",
       "       'Epic Games', 'Epoch', 'Ertain', 'Essential Games',\n",
       "       'Evolution Games', 'Evolved Games', 'Excalibur Publishing',\n",
       "       'Experience Inc.', 'Extreme Entertainment Group',\n",
       "       'Falcom Corporation', 'Fields', 'Flashpoint Games', 'Flight-Plan',\n",
       "       'Focus Home Interactive', 'Focus Multimedia',\n",
       "       'Foreign Media Games', 'Fortyfive', 'Fox Interactive',\n",
       "       'From Software', 'FuRyu', 'FuRyu Corporation', 'Fuji', 'FunSoft',\n",
       "       'Funbox Media', 'Funcom', 'Funsta', 'G.Rev', 'GN Software', 'GOA',\n",
       "       'GSP', 'GT Interactive', 'Gaga', 'Gainax Network Systems',\n",
       "       'Gakken', 'Game Arts', 'Game Factory', 'Game Life',\n",
       "       'GameMill Entertainment', 'GameTek', 'Gamebridge', 'Gamecock',\n",
       "       'Gameloft', 'Gathering of Developers', 'General Entertainment',\n",
       "       'Genki', 'Genterprise', 'Ghostlight', 'Giga', 'Giza10', 'Glams',\n",
       "       'Global A Entertainment', 'Global Star', 'Gotham Games',\n",
       "       'Graffiti', 'Grand Prix Games', 'Graphsim Entertainment',\n",
       "       'Gremlin Interactive Ltd', 'Griffin International', 'Groove Games',\n",
       "       'GungHo', 'Gust', 'HAL Laboratory', 'HMH Interactive', 'Hackberry',\n",
       "       'Hamster Corporation', 'Happinet', 'Harmonix Music Systems',\n",
       "       'Hasbro Interactive', 'Havas Interactive', 'Headup Games',\n",
       "       'Hearty Robin', 'Hect', 'Hello Games', 'Her Interactive',\n",
       "       'Hip Interactive', 'Home Entertainment Suppliers',\n",
       "       'Hudson Entertainment', 'Hudson Soft', 'Human Entertainment',\n",
       "       'HuneX', 'IE Institute', 'ITT Family Games', 'Iceberg Interactive',\n",
       "       'Idea Factory', 'Idea Factory International',\n",
       "       'Ignition Entertainment', 'Illusion Softworks', 'Imadio',\n",
       "       'Image Epoch', 'Imageworks', 'Imagic', 'Imagineer', 'Imax',\n",
       "       'Indie Games', 'Infogrames', 'Insomniac Games', 'Interchannel',\n",
       "       'Interchannel-Holon', 'Intergrow', 'Interplay',\n",
       "       'Interplay Productions', 'Interworks Unlimited, Inc.',\n",
       "       'Inti Creates', 'Introversion Software',\n",
       "       'Irem Software Engineering', 'Ivolgamus', 'JVC',\n",
       "       'Jack of All Games', 'Jaleco', 'Jester Interactive',\n",
       "       'JoWood Productions', 'Jorudan', 'Just Flight', 'KID', 'KSS',\n",
       "       'Kadokawa Games', 'Kadokawa Shoten', 'Kaga Create',\n",
       "       'Kalypso Media', 'Kamui', 'Kando Games', 'Karin Entertainment',\n",
       "       'Kemco', 'Kids Station', 'King Records', 'Knowledge Adventure',\n",
       "       'Koch Media', 'Kokopeli Digital Studios',\n",
       "       'Konami Digital Entertainment', 'Kool Kizz', 'LEGO Media',\n",
       "       'LSP Games', 'Laguna', 'Legacy Interactive', 'Level 5',\n",
       "       'Lexicon Entertainment', 'Licensed 4U', 'Lighthouse Interactive',\n",
       "       'Liquid Games', 'Little Orbit', 'Locus', 'LucasArts',\n",
       "       'MC2 Entertainment', 'MLB.com', 'MTO', 'MTV Games', 'Mad Catz',\n",
       "       'Magical Company', 'Magix', 'Majesco Entertainment', 'Mamba Games',\n",
       "       'Marvel Entertainment', 'Marvelous Entertainment',\n",
       "       'Marvelous Games', 'Marvelous Interactive', 'Masque Publishing',\n",
       "       'Mastertronic', 'Mastiff', 'Mattel Interactive', 'Max Five',\n",
       "       'Maximum Family Games', 'Maxis', 'Media Entertainment',\n",
       "       'Media Factory', 'Media Rings', 'Media Works', 'MediaQuest',\n",
       "       'Men-A-Vision', 'Mentor Interactive', 'Mercury Games',\n",
       "       'Merscom LLC', 'Metro 3D', 'Michaelsoft', 'Micro Cabin',\n",
       "       'Microids', 'Microprose', 'Microsoft Game Studios',\n",
       "       'Midas Interactive Entertainment', 'Midway Games', 'Milestone',\n",
       "       'Milestone S.r.l', 'Milestone S.r.l.', 'Minato Station',\n",
       "       'Mindscape', 'Mirai Shounen', 'Misawa', 'Mitsui', 'Mojang',\n",
       "       'Monte Christo Multimedia', 'Moss', 'Mud Duck Productions',\n",
       "       'Mumbo Jumbo', 'Mycom', 'Myelin Media', 'Mystique', 'NCS',\n",
       "       'NCSoft', 'NDA Productions', 'NEC', 'NEC Interchannel',\n",
       "       'Namco Bandai Games', 'Natsume', 'Navarre Corp', 'Naxat Soft',\n",
       "       'Neko Entertainment', 'NetRevo', 'New', 'New World Computing',\n",
       "       'NewKidCo', 'Nexon', 'Nichibutsu', 'Nihon Falcom Corporation',\n",
       "       'Nintendo', 'Nippon Amuse', 'Nippon Columbia',\n",
       "       'Nippon Ichi Software', 'Nippon Telenet', 'Nitroplus', 'Nobilis',\n",
       "       'Nordcurrent', 'Nordic Games', 'NovaLogic', 'Number None',\n",
       "       'O-Games', 'O3 Entertainment', 'Ocean', 'Office Create',\n",
       "       'On Demand', 'Ongakukan', 'Origin Systems', 'Otomate',\n",
       "       'Oxygen Interactive', 'P2 Games', 'PM Studios', 'PQube',\n",
       "       'Pacific Century Cyber Works', 'Pack In Soft', 'Pack-In-Video',\n",
       "       'Palcom', 'Panther Software', 'Paon', 'Paon Corporation',\n",
       "       'Paradox Development', 'Paradox Interactive', 'Parker Bros.',\n",
       "       'Performance Designed Products', 'Phantagram', 'Phantom EFX',\n",
       "       'Phenomedia', 'Phoenix Games', 'Piacci', 'Pinnacle', 'Pioneer LDC',\n",
       "       'Play It', 'PlayV', 'Playlogic Game Factory', 'Playmates',\n",
       "       'Playmore', 'Plenty', 'Pony Canyon', 'PopCap Games',\n",
       "       'PopTop Software', 'Popcorn Arcade', 'Pow', 'Princess Soft',\n",
       "       'Prototype', 'Psygnosis', 'Quelle', 'Quest', 'Quinrose', 'Quintet',\n",
       "       'RED Entertainment', 'RTL', 'Rage Software', 'Rain Games',\n",
       "       'Rebellion', 'Rebellion Developments', 'Red Orb',\n",
       "       'Red Storm Entertainment', 'RedOctane', 'Reef Entertainment',\n",
       "       'Revolution (Japan)', 'Revolution Software', 'Rising Star Games',\n",
       "       'Riverhillsoft', 'Rocket Company', 'Rondomedia', 'Russel',\n",
       "       'SCS Software', 'SCi', 'SNK', 'SNK Playmore', 'SPS', 'SSI',\n",
       "       'Sammy Corporation', 'Saurus', 'Scholastic Inc.', 'Screenlife',\n",
       "       'Sears', 'Sega', 'Seta Corporation', 'Seventh Chord', 'Shogakukan',\n",
       "       'Simon & Schuster Interactive', 'Slightly Mad Studios',\n",
       "       'Slitherine Software', 'Societa', 'Sold Out', 'Sonnet',\n",
       "       'Sony Computer Entertainment',\n",
       "       'Sony Computer Entertainment America',\n",
       "       'Sony Computer Entertainment Europe', 'Sony Music Entertainment',\n",
       "       'Sony Online Entertainment', 'SouthPeak Games', 'Spike', 'Square',\n",
       "       'Square EA', 'Square Enix', 'SquareSoft', 'Stainless Games',\n",
       "       'Starfish', 'Starpath Corp.', 'Sting', 'Storm City Games',\n",
       "       'Strategy First', 'Success', 'Summitsoft', 'Sunflowers',\n",
       "       'Sunrise Interactive', 'Sunsoft', 'Sweets', 'Swing! Entertainment',\n",
       "       'Syscom', 'System 3', 'System 3 Arcade Software', 'System Soft',\n",
       "       'T&E Soft', 'TDK Core', 'TDK Mediactive', 'TGL', 'THQ', 'TOHO',\n",
       "       'TYO', 'Taito', 'Takara', 'Takara Tomy', 'Take-Two Interactive',\n",
       "       'Takuyo', 'TalonSoft', 'Team17 Software', 'TechnoSoft',\n",
       "       'Technos Japan Corporation', 'Tecmo Koei', 'Telegames',\n",
       "       'Telltale Games', 'Telstar', 'Tetris Online',\n",
       "       'The Adventure Company', 'The Learning Company', 'Tigervision',\n",
       "       'Time Warner Interactive', 'Titus', 'Tivola', 'Tommo',\n",
       "       'Tomy Corporation', 'TopWare Interactive', 'Touchstone',\n",
       "       'Tradewest', 'Trion Worlds', 'Tripwire Interactive',\n",
       "       'Tru Blu Entertainment', 'Tryfirst', 'Type-Moon', 'U.S. Gold',\n",
       "       'UEP Systems', 'UFO Interactive', 'UIG Entertainment', 'Ubisoft',\n",
       "       'Ubisoft Annecy', 'Ultravision', 'Universal Gamex',\n",
       "       'Universal Interactive', 'Unknown', 'Valcon Games', 'ValuSoft',\n",
       "       'Valve', 'Valve Software', 'Vap', 'Vatical Entertainment',\n",
       "       'Vic Tokai', 'Victor Interactive', 'Video System', 'Views',\n",
       "       'Vir2L Studios', 'Virgin Interactive', 'Virtual Play Games',\n",
       "       'Visco', 'Vivendi Games', 'Wanadoo', 'Warashi', 'Wargaming.net',\n",
       "       'Warner Bros. Interactive Entertainment', 'Warp',\n",
       "       'WayForward Technologies', 'Westwood Studios',\n",
       "       'White Park Bay Software', 'Wizard Video Games', 'XS Games',\n",
       "       'Xicat Interactive', 'Xing Entertainment', 'Xplosiv',\n",
       "       'Xseed Games', 'Yacht Club Games', 'Yamasa Entertainment', 'Yeti',\n",
       "       \"Yuke's\", 'Yumedia', 'Zenrin', 'Zoo Digital Publishing',\n",
       "       'Zoo Games', 'Zushi Games', 'bitComposer Games', 'dramatic create',\n",
       "       'fonfun', 'iWin', 'id Software', 'imageepoch Inc.',\n",
       "       'inXile Entertainment', 'mixi, Inc', 'responDESIGN'], dtype='<U38')"
      ]
     },
     "execution_count": 27,
     "metadata": {},
     "output_type": "execute_result"
    }
   ],
   "source": [
    "editeur = data[\"Publisher\"].unique() # Extraction des valeurs console unique\n",
    "editeur = [x for x in editeur if str(x) != 'nan']\n",
    "editeur = np.sort(editeur) # Trie des valeurs\n",
    "editeur"
   ]
  },
  {
   "cell_type": "code",
   "execution_count": 28,
   "id": "07a1268a",
   "metadata": {},
   "outputs": [],
   "source": [
    "editeur_kv = dict((k, v) for v, k in enumerate(editeur, 1)) # mise des données sous forme de dictionnaire"
   ]
  },
  {
   "cell_type": "code",
   "execution_count": 29,
   "id": "522362fa",
   "metadata": {},
   "outputs": [],
   "source": [
    "jeux[\"Publisher\"] = jeux[\"Publisher\"].replace(editeur_kv).astype(pd.Int32Dtype())"
   ]
  },
  {
   "cell_type": "code",
   "execution_count": 30,
   "id": "6fe54061",
   "metadata": {},
   "outputs": [],
   "source": [
    "jeux = jeux.drop(columns=[\"Rank\"])"
   ]
  },
  {
   "cell_type": "code",
   "execution_count": 32,
   "id": "8fd675db",
   "metadata": {},
   "outputs": [
    {
     "ename": "KeyError",
     "evalue": "\"None of [Index(['Name', 'NA_Sales', 'EU_Sales', 'JP_Sales', 'Other_Sales',\\n       'Global_Sales', 'Year', 'Platform', 'Genre', 'Publisher'],\\n      dtype='object')] are in the [columns]\"",
     "output_type": "error",
     "traceback": [
      "\u001b[1;31m---------------------------------------------------------------------------\u001b[0m",
      "\u001b[1;31mKeyError\u001b[0m                                  Traceback (most recent call last)",
      "\u001b[1;32mC:\\Users\\UTILIS~1\\AppData\\Local\\Temp/ipykernel_14644/1911617112.py\u001b[0m in \u001b[0;36m<module>\u001b[1;34m\u001b[0m\n\u001b[1;32m----> 1\u001b[1;33m \u001b[0mjeux\u001b[0m \u001b[1;33m=\u001b[0m \u001b[0mjeux\u001b[0m\u001b[1;33m[\u001b[0m\u001b[1;33m[\u001b[0m\u001b[1;34m\"Name\"\u001b[0m\u001b[1;33m,\u001b[0m \u001b[1;34m\"NA_Sales\"\u001b[0m\u001b[1;33m,\u001b[0m \u001b[1;34m\"EU_Sales\"\u001b[0m\u001b[1;33m,\u001b[0m \u001b[1;34m\"JP_Sales\"\u001b[0m\u001b[1;33m,\u001b[0m \u001b[1;34m\"Other_Sales\"\u001b[0m\u001b[1;33m,\u001b[0m \u001b[1;34m\"Global_Sales\"\u001b[0m\u001b[1;33m,\u001b[0m \u001b[1;34m\"Year\"\u001b[0m\u001b[1;33m,\u001b[0m \u001b[1;34m\"Platform\"\u001b[0m\u001b[1;33m,\u001b[0m \u001b[1;34m\"Genre\"\u001b[0m\u001b[1;33m,\u001b[0m \u001b[1;34m\"Publisher\"\u001b[0m\u001b[1;33m]\u001b[0m\u001b[1;33m]\u001b[0m\u001b[1;33m\u001b[0m\u001b[1;33m\u001b[0m\u001b[0m\n\u001b[0m\u001b[0;32m      2\u001b[0m \u001b[0mjeux\u001b[0m \u001b[1;33m=\u001b[0m \u001b[0mjeux\u001b[0m\u001b[1;33m.\u001b[0m\u001b[0mrename\u001b[0m\u001b[1;33m(\u001b[0m\u001b[0mcolumns\u001b[0m\u001b[1;33m=\u001b[0m\u001b[1;33m{\u001b[0m\u001b[1;34m\"Name\"\u001b[0m \u001b[1;33m:\u001b[0m \u001b[1;34m\"nom_jeu\"\u001b[0m\u001b[1;33m,\u001b[0m \u001b[1;34m\"NA_Sales\"\u001b[0m \u001b[1;33m:\u001b[0m \u001b[1;34m\"na_vente_jeu\"\u001b[0m\u001b[1;33m,\u001b[0m \u001b[1;34m\"EU_Sales\"\u001b[0m \u001b[1;33m:\u001b[0m \u001b[1;34m\"eu_vente_jeu\"\u001b[0m\u001b[1;33m,\u001b[0m \u001b[1;34m\"JP_Sales\"\u001b[0m \u001b[1;33m:\u001b[0m \u001b[1;34m\"jp_vente_jeu\"\u001b[0m\u001b[1;33m,\u001b[0m \u001b[1;34m\"Other_Sales\"\u001b[0m \u001b[1;33m:\u001b[0m \u001b[1;34m\"autre_vente_jeu\"\u001b[0m\u001b[1;33m,\u001b[0m \u001b[1;34m\"Global_Sales\"\u001b[0m \u001b[1;33m:\u001b[0m \u001b[1;34m\"global_vente_jeu\"\u001b[0m\u001b[1;33m,\u001b[0m \u001b[1;34m\"Year\"\u001b[0m \u001b[1;33m:\u001b[0m \u001b[1;34m\"id_calendrier\"\u001b[0m\u001b[1;33m,\u001b[0m \u001b[1;34m\"Platform\"\u001b[0m \u001b[1;33m:\u001b[0m \u001b[1;34m\"id_console\"\u001b[0m\u001b[1;33m,\u001b[0m \u001b[1;34m\"Genre\"\u001b[0m \u001b[1;33m:\u001b[0m \u001b[1;34m\"id_genre\"\u001b[0m\u001b[1;33m,\u001b[0m \u001b[1;34m\"Publisher\"\u001b[0m \u001b[1;33m:\u001b[0m \u001b[1;34m\"id_editeur\"\u001b[0m\u001b[1;33m}\u001b[0m\u001b[1;33m)\u001b[0m\u001b[1;33m\u001b[0m\u001b[1;33m\u001b[0m\u001b[0m\n\u001b[0;32m      3\u001b[0m \u001b[0mjeux\u001b[0m\u001b[1;33m.\u001b[0m\u001b[0mindex\u001b[0m \u001b[1;33m+=\u001b[0m \u001b[1;36m1\u001b[0m\u001b[1;33m\u001b[0m\u001b[1;33m\u001b[0m\u001b[0m\n\u001b[0;32m      4\u001b[0m \u001b[0mjeux\u001b[0m\u001b[1;33m.\u001b[0m\u001b[0mto_csv\u001b[0m\u001b[1;33m(\u001b[0m\u001b[1;34m\"./CSV_2DB/jeux.csv\"\u001b[0m\u001b[1;33m,\u001b[0m \u001b[0mindex\u001b[0m\u001b[1;33m=\u001b[0m\u001b[1;32mTrue\u001b[0m\u001b[1;33m,\u001b[0m \u001b[0mheader\u001b[0m\u001b[1;33m=\u001b[0m\u001b[1;32mTrue\u001b[0m\u001b[1;33m)\u001b[0m\u001b[1;33m\u001b[0m\u001b[1;33m\u001b[0m\u001b[0m\n",
      "\u001b[1;32m~\\anaconda3\\lib\\site-packages\\pandas\\core\\frame.py\u001b[0m in \u001b[0;36m__getitem__\u001b[1;34m(self, key)\u001b[0m\n\u001b[0;32m   3462\u001b[0m             \u001b[1;32mif\u001b[0m \u001b[0mis_iterator\u001b[0m\u001b[1;33m(\u001b[0m\u001b[0mkey\u001b[0m\u001b[1;33m)\u001b[0m\u001b[1;33m:\u001b[0m\u001b[1;33m\u001b[0m\u001b[1;33m\u001b[0m\u001b[0m\n\u001b[0;32m   3463\u001b[0m                 \u001b[0mkey\u001b[0m \u001b[1;33m=\u001b[0m \u001b[0mlist\u001b[0m\u001b[1;33m(\u001b[0m\u001b[0mkey\u001b[0m\u001b[1;33m)\u001b[0m\u001b[1;33m\u001b[0m\u001b[1;33m\u001b[0m\u001b[0m\n\u001b[1;32m-> 3464\u001b[1;33m             \u001b[0mindexer\u001b[0m \u001b[1;33m=\u001b[0m \u001b[0mself\u001b[0m\u001b[1;33m.\u001b[0m\u001b[0mloc\u001b[0m\u001b[1;33m.\u001b[0m\u001b[0m_get_listlike_indexer\u001b[0m\u001b[1;33m(\u001b[0m\u001b[0mkey\u001b[0m\u001b[1;33m,\u001b[0m \u001b[0maxis\u001b[0m\u001b[1;33m=\u001b[0m\u001b[1;36m1\u001b[0m\u001b[1;33m)\u001b[0m\u001b[1;33m[\u001b[0m\u001b[1;36m1\u001b[0m\u001b[1;33m]\u001b[0m\u001b[1;33m\u001b[0m\u001b[1;33m\u001b[0m\u001b[0m\n\u001b[0m\u001b[0;32m   3465\u001b[0m \u001b[1;33m\u001b[0m\u001b[0m\n\u001b[0;32m   3466\u001b[0m         \u001b[1;31m# take() does not accept boolean indexers\u001b[0m\u001b[1;33m\u001b[0m\u001b[1;33m\u001b[0m\u001b[0m\n",
      "\u001b[1;32m~\\anaconda3\\lib\\site-packages\\pandas\\core\\indexing.py\u001b[0m in \u001b[0;36m_get_listlike_indexer\u001b[1;34m(self, key, axis)\u001b[0m\n\u001b[0;32m   1312\u001b[0m             \u001b[0mkeyarr\u001b[0m\u001b[1;33m,\u001b[0m \u001b[0mindexer\u001b[0m\u001b[1;33m,\u001b[0m \u001b[0mnew_indexer\u001b[0m \u001b[1;33m=\u001b[0m \u001b[0max\u001b[0m\u001b[1;33m.\u001b[0m\u001b[0m_reindex_non_unique\u001b[0m\u001b[1;33m(\u001b[0m\u001b[0mkeyarr\u001b[0m\u001b[1;33m)\u001b[0m\u001b[1;33m\u001b[0m\u001b[1;33m\u001b[0m\u001b[0m\n\u001b[0;32m   1313\u001b[0m \u001b[1;33m\u001b[0m\u001b[0m\n\u001b[1;32m-> 1314\u001b[1;33m         \u001b[0mself\u001b[0m\u001b[1;33m.\u001b[0m\u001b[0m_validate_read_indexer\u001b[0m\u001b[1;33m(\u001b[0m\u001b[0mkeyarr\u001b[0m\u001b[1;33m,\u001b[0m \u001b[0mindexer\u001b[0m\u001b[1;33m,\u001b[0m \u001b[0maxis\u001b[0m\u001b[1;33m)\u001b[0m\u001b[1;33m\u001b[0m\u001b[1;33m\u001b[0m\u001b[0m\n\u001b[0m\u001b[0;32m   1315\u001b[0m \u001b[1;33m\u001b[0m\u001b[0m\n\u001b[0;32m   1316\u001b[0m         if needs_i8_conversion(ax.dtype) or isinstance(\n",
      "\u001b[1;32m~\\anaconda3\\lib\\site-packages\\pandas\\core\\indexing.py\u001b[0m in \u001b[0;36m_validate_read_indexer\u001b[1;34m(self, key, indexer, axis)\u001b[0m\n\u001b[0;32m   1372\u001b[0m                 \u001b[1;32mif\u001b[0m \u001b[0muse_interval_msg\u001b[0m\u001b[1;33m:\u001b[0m\u001b[1;33m\u001b[0m\u001b[1;33m\u001b[0m\u001b[0m\n\u001b[0;32m   1373\u001b[0m                     \u001b[0mkey\u001b[0m \u001b[1;33m=\u001b[0m \u001b[0mlist\u001b[0m\u001b[1;33m(\u001b[0m\u001b[0mkey\u001b[0m\u001b[1;33m)\u001b[0m\u001b[1;33m\u001b[0m\u001b[1;33m\u001b[0m\u001b[0m\n\u001b[1;32m-> 1374\u001b[1;33m                 \u001b[1;32mraise\u001b[0m \u001b[0mKeyError\u001b[0m\u001b[1;33m(\u001b[0m\u001b[1;34mf\"None of [{key}] are in the [{axis_name}]\"\u001b[0m\u001b[1;33m)\u001b[0m\u001b[1;33m\u001b[0m\u001b[1;33m\u001b[0m\u001b[0m\n\u001b[0m\u001b[0;32m   1375\u001b[0m \u001b[1;33m\u001b[0m\u001b[0m\n\u001b[0;32m   1376\u001b[0m             \u001b[0mnot_found\u001b[0m \u001b[1;33m=\u001b[0m \u001b[0mlist\u001b[0m\u001b[1;33m(\u001b[0m\u001b[0mensure_index\u001b[0m\u001b[1;33m(\u001b[0m\u001b[0mkey\u001b[0m\u001b[1;33m)\u001b[0m\u001b[1;33m[\u001b[0m\u001b[0mmissing_mask\u001b[0m\u001b[1;33m.\u001b[0m\u001b[0mnonzero\u001b[0m\u001b[1;33m(\u001b[0m\u001b[1;33m)\u001b[0m\u001b[1;33m[\u001b[0m\u001b[1;36m0\u001b[0m\u001b[1;33m]\u001b[0m\u001b[1;33m]\u001b[0m\u001b[1;33m.\u001b[0m\u001b[0munique\u001b[0m\u001b[1;33m(\u001b[0m\u001b[1;33m)\u001b[0m\u001b[1;33m)\u001b[0m\u001b[1;33m\u001b[0m\u001b[1;33m\u001b[0m\u001b[0m\n",
      "\u001b[1;31mKeyError\u001b[0m: \"None of [Index(['Name', 'NA_Sales', 'EU_Sales', 'JP_Sales', 'Other_Sales',\\n       'Global_Sales', 'Year', 'Platform', 'Genre', 'Publisher'],\\n      dtype='object')] are in the [columns]\""
     ]
    }
   ],
   "source": [
    "jeux = jeux[[\"Name\", \"NA_Sales\", \"EU_Sales\", \"JP_Sales\", \"Other_Sales\", \"Global_Sales\", \"Year\", \"Platform\", \"Genre\", \"Publisher\"]]\n",
    "jeux = jeux.rename(columns={\"Name\" : \"nom_jeu\", \"NA_Sales\" : \"na_vente_jeu\", \"EU_Sales\" : \"eu_vente_jeu\", \"JP_Sales\" : \"jp_vente_jeu\", \"Other_Sales\" : \"autre_vente_jeu\", \"Global_Sales\" : \"global_vente_jeu\", \"Year\" : \"id_calendrier\", \"Platform\" : \"id_console\", \"Genre\" : \"id_genre\", \"Publisher\" : \"id_editeur\"})"
   ]
  },
  {
   "cell_type": "code",
   "execution_count": 33,
   "id": "37b4c18c",
   "metadata": {},
   "outputs": [],
   "source": [
    "jeux.index += 1\n",
    "jeux.to_csv(\"./CSV_2DB/jeux.csv\", index=True, header=True)"
   ]
  },
  {
   "cell_type": "code",
   "execution_count": null,
   "id": "c1d5fb13",
   "metadata": {},
   "outputs": [],
   "source": []
  }
 ],
 "metadata": {
  "kernelspec": {
   "display_name": "Python 3 (ipykernel)",
   "language": "python",
   "name": "python3"
  },
  "language_info": {
   "codemirror_mode": {
    "name": "ipython",
    "version": 3
   },
   "file_extension": ".py",
   "mimetype": "text/x-python",
   "name": "python",
   "nbconvert_exporter": "python",
   "pygments_lexer": "ipython3",
   "version": "3.9.7"
  },
  "toc-autonumbering": true,
  "toc-showcode": false,
  "toc-showmarkdowntxt": false
 },
 "nbformat": 4,
 "nbformat_minor": 5
}
