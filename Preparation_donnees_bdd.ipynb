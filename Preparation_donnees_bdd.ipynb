{
 "cells": [
  {
   "cell_type": "markdown",
   "id": "2b62f73d",
   "metadata": {},
   "source": [
    "# Première analyse du jeu de données"
   ]
  },
  {
   "cell_type": "markdown",
   "id": "b6172fa9",
   "metadata": {},
   "source": [
    "## Importaiton des librairies"
   ]
  },
  {
   "cell_type": "code",
   "execution_count": 1,
   "id": "a40553d9",
   "metadata": {},
   "outputs": [],
   "source": [
    "import pandas as pd\n",
    "import numpy as np\n",
    "import matplotlib.pyplot as plt"
   ]
  },
  {
   "cell_type": "markdown",
   "id": "5b08d55a",
   "metadata": {},
   "source": [
    "## Chargement des données"
   ]
  },
  {
   "cell_type": "code",
   "execution_count": 2,
   "id": "33ca5837",
   "metadata": {},
   "outputs": [
    {
     "data": {
      "text/html": [
       "<div>\n",
       "<style scoped>\n",
       "    .dataframe tbody tr th:only-of-type {\n",
       "        vertical-align: middle;\n",
       "    }\n",
       "\n",
       "    .dataframe tbody tr th {\n",
       "        vertical-align: top;\n",
       "    }\n",
       "\n",
       "    .dataframe thead th {\n",
       "        text-align: right;\n",
       "    }\n",
       "</style>\n",
       "<table border=\"1\" class=\"dataframe\">\n",
       "  <thead>\n",
       "    <tr style=\"text-align: right;\">\n",
       "      <th></th>\n",
       "      <th>Rank</th>\n",
       "      <th>Name</th>\n",
       "      <th>Platform</th>\n",
       "      <th>Year</th>\n",
       "      <th>Genre</th>\n",
       "      <th>Publisher</th>\n",
       "      <th>NA_Sales</th>\n",
       "      <th>EU_Sales</th>\n",
       "      <th>JP_Sales</th>\n",
       "      <th>Other_Sales</th>\n",
       "      <th>Global_Sales</th>\n",
       "    </tr>\n",
       "  </thead>\n",
       "  <tbody>\n",
       "    <tr>\n",
       "      <th>0</th>\n",
       "      <td>1</td>\n",
       "      <td>Wii Sports</td>\n",
       "      <td>Wii</td>\n",
       "      <td>2006.0</td>\n",
       "      <td>Sports</td>\n",
       "      <td>Nintendo</td>\n",
       "      <td>41.49</td>\n",
       "      <td>29.02</td>\n",
       "      <td>3.77</td>\n",
       "      <td>8.46</td>\n",
       "      <td>82.74</td>\n",
       "    </tr>\n",
       "    <tr>\n",
       "      <th>1</th>\n",
       "      <td>2</td>\n",
       "      <td>Super Mario Bros.</td>\n",
       "      <td>NES</td>\n",
       "      <td>1985.0</td>\n",
       "      <td>Platform</td>\n",
       "      <td>Nintendo</td>\n",
       "      <td>29.08</td>\n",
       "      <td>3.58</td>\n",
       "      <td>6.81</td>\n",
       "      <td>0.77</td>\n",
       "      <td>40.24</td>\n",
       "    </tr>\n",
       "    <tr>\n",
       "      <th>2</th>\n",
       "      <td>3</td>\n",
       "      <td>Mario Kart Wii</td>\n",
       "      <td>Wii</td>\n",
       "      <td>2008.0</td>\n",
       "      <td>Racing</td>\n",
       "      <td>Nintendo</td>\n",
       "      <td>15.85</td>\n",
       "      <td>12.88</td>\n",
       "      <td>3.79</td>\n",
       "      <td>3.31</td>\n",
       "      <td>35.82</td>\n",
       "    </tr>\n",
       "    <tr>\n",
       "      <th>3</th>\n",
       "      <td>4</td>\n",
       "      <td>Wii Sports Resort</td>\n",
       "      <td>Wii</td>\n",
       "      <td>2009.0</td>\n",
       "      <td>Sports</td>\n",
       "      <td>Nintendo</td>\n",
       "      <td>15.75</td>\n",
       "      <td>11.01</td>\n",
       "      <td>3.28</td>\n",
       "      <td>2.96</td>\n",
       "      <td>33.00</td>\n",
       "    </tr>\n",
       "    <tr>\n",
       "      <th>4</th>\n",
       "      <td>5</td>\n",
       "      <td>Pokemon Red/Pokemon Blue</td>\n",
       "      <td>GB</td>\n",
       "      <td>1996.0</td>\n",
       "      <td>Role-Playing</td>\n",
       "      <td>Nintendo</td>\n",
       "      <td>11.27</td>\n",
       "      <td>8.89</td>\n",
       "      <td>10.22</td>\n",
       "      <td>1.00</td>\n",
       "      <td>31.37</td>\n",
       "    </tr>\n",
       "  </tbody>\n",
       "</table>\n",
       "</div>"
      ],
      "text/plain": [
       "   Rank                      Name Platform    Year         Genre Publisher  \\\n",
       "0     1                Wii Sports      Wii  2006.0        Sports  Nintendo   \n",
       "1     2         Super Mario Bros.      NES  1985.0      Platform  Nintendo   \n",
       "2     3            Mario Kart Wii      Wii  2008.0        Racing  Nintendo   \n",
       "3     4         Wii Sports Resort      Wii  2009.0        Sports  Nintendo   \n",
       "4     5  Pokemon Red/Pokemon Blue       GB  1996.0  Role-Playing  Nintendo   \n",
       "\n",
       "   NA_Sales  EU_Sales  JP_Sales  Other_Sales  Global_Sales  \n",
       "0     41.49     29.02      3.77         8.46         82.74  \n",
       "1     29.08      3.58      6.81         0.77         40.24  \n",
       "2     15.85     12.88      3.79         3.31         35.82  \n",
       "3     15.75     11.01      3.28         2.96         33.00  \n",
       "4     11.27      8.89     10.22         1.00         31.37  "
      ]
     },
     "execution_count": 2,
     "metadata": {},
     "output_type": "execute_result"
    }
   ],
   "source": [
    "data = pd.read_csv(\"./vgsales.csv\")\n",
    "data.head() # affichages des 5 premières observation des datas"
   ]
  },
  {
   "cell_type": "code",
   "execution_count": 3,
   "id": "cde7653b",
   "metadata": {},
   "outputs": [
    {
     "name": "stdout",
     "output_type": "stream",
     "text": [
      "<class 'pandas.core.frame.DataFrame'>\n",
      "RangeIndex: 16598 entries, 0 to 16597\n",
      "Data columns (total 11 columns):\n",
      " #   Column        Non-Null Count  Dtype  \n",
      "---  ------        --------------  -----  \n",
      " 0   Rank          16598 non-null  int64  \n",
      " 1   Name          16598 non-null  object \n",
      " 2   Platform      16598 non-null  object \n",
      " 3   Year          16327 non-null  float64\n",
      " 4   Genre         16598 non-null  object \n",
      " 5   Publisher     16540 non-null  object \n",
      " 6   NA_Sales      16598 non-null  float64\n",
      " 7   EU_Sales      16598 non-null  float64\n",
      " 8   JP_Sales      16598 non-null  float64\n",
      " 9   Other_Sales   16598 non-null  float64\n",
      " 10  Global_Sales  16598 non-null  float64\n",
      "dtypes: float64(6), int64(1), object(4)\n",
      "memory usage: 1.4+ MB\n"
     ]
    }
   ],
   "source": [
    "data.info() # information générale du DataSet"
   ]
  },
  {
   "cell_type": "code",
   "execution_count": 28,
   "id": "e299bb54",
   "metadata": {},
   "outputs": [],
   "source": [
    "year = data[\"Year\"].unique()"
   ]
  },
  {
   "cell_type": "code",
   "execution_count": 40,
   "id": "a0ee35be",
   "metadata": {},
   "outputs": [
    {
     "name": "stdout",
     "output_type": "stream",
     "text": [
      "[1980 1981 1982 1983 1984 1985 1986 1987 1988 1989 1990 1991 1992 1993\n",
      " 1994 1995 1996 1997 1998 1999 2000 2001 2002 2003 2004 2005 2006 2007\n",
      " 2008 2009 2010 2011 2012 2013 2014 2015 2016 2017 2020]\n"
     ]
    }
   ],
   "source": [
    "year = np.sort(year[~np.isnan(year)]).astype(\"int\")\n",
    "# year = np.datetime64(year.astype(\"str\"))\n",
    "print(year)"
   ]
  },
  {
   "cell_type": "code",
   "execution_count": 6,
   "id": "ef6103e5",
   "metadata": {},
   "outputs": [],
   "source": [
    "# np.savetxt('annees.csv', year, delimiter=\",\")"
   ]
  },
  {
   "cell_type": "code",
   "execution_count": 7,
   "id": "fdd5887a",
   "metadata": {},
   "outputs": [],
   "source": [
    "# year = pd.DataFrame(year.astype(\"str\"), columns = [\"year\"])\n",
    "# year.to_csv(\"annees.csv\", index=False, header=False)"
   ]
  },
  {
   "cell_type": "code",
   "execution_count": 41,
   "id": "81a2f828",
   "metadata": {},
   "outputs": [
    {
     "data": {
      "text/plain": [
       "{1980: 1,\n",
       " 1981: 2,\n",
       " 1982: 3,\n",
       " 1983: 4,\n",
       " 1984: 5,\n",
       " 1985: 6,\n",
       " 1986: 7,\n",
       " 1987: 8,\n",
       " 1988: 9,\n",
       " 1989: 10,\n",
       " 1990: 11,\n",
       " 1991: 12,\n",
       " 1992: 13,\n",
       " 1993: 14,\n",
       " 1994: 15,\n",
       " 1995: 16,\n",
       " 1996: 17,\n",
       " 1997: 18,\n",
       " 1998: 19,\n",
       " 1999: 20,\n",
       " 2000: 21,\n",
       " 2001: 22,\n",
       " 2002: 23,\n",
       " 2003: 24,\n",
       " 2004: 25,\n",
       " 2005: 26,\n",
       " 2006: 27,\n",
       " 2007: 28,\n",
       " 2008: 29,\n",
       " 2009: 30,\n",
       " 2010: 31,\n",
       " 2011: 32,\n",
       " 2012: 33,\n",
       " 2013: 34,\n",
       " 2014: 35,\n",
       " 2015: 36,\n",
       " 2016: 37,\n",
       " 2017: 38,\n",
       " 2020: 39}"
      ]
     },
     "execution_count": 41,
     "metadata": {},
     "output_type": "execute_result"
    }
   ],
   "source": [
    "test = data.copy()\n",
    "\n",
    "# year = np.sort(year[~np.isnan(year)])\n",
    "toto = dict((k, v) for v, k in enumerate(year, 1))\n",
    "toto"
   ]
  },
  {
   "cell_type": "code",
   "execution_count": 43,
   "id": "7e538128",
   "metadata": {},
   "outputs": [
    {
     "data": {
      "text/plain": [
       "0        27.0\n",
       "1         6.0\n",
       "2        29.0\n",
       "3        30.0\n",
       "4        17.0\n",
       "         ... \n",
       "16593    23.0\n",
       "16594    24.0\n",
       "16595    29.0\n",
       "16596    31.0\n",
       "16597    24.0\n",
       "Name: Year, Length: 16598, dtype: float64"
      ]
     },
     "execution_count": 43,
     "metadata": {},
     "output_type": "execute_result"
    }
   ],
   "source": [
    "test[\"Year\"].replace(toto)"
   ]
  },
  {
   "cell_type": "code",
   "execution_count": 8,
   "id": "77b317c4",
   "metadata": {},
   "outputs": [],
   "source": [
    "calendar = year.copy()"
   ]
  },
  {
   "cell_type": "code",
   "execution_count": 9,
   "id": "0f1f86d4",
   "metadata": {},
   "outputs": [],
   "source": [
    "calendar[\"month\"] = \"01\"\n",
    "calendar[\"day\"] = \"01\""
   ]
  },
  {
   "cell_type": "code",
   "execution_count": 10,
   "id": "7f511a07",
   "metadata": {},
   "outputs": [],
   "source": [
    "annees = pd.to_datetime(calendar).astype(\"str\")"
   ]
  },
  {
   "cell_type": "code",
   "execution_count": 11,
   "id": "1fc700c2",
   "metadata": {},
   "outputs": [],
   "source": [
    "annees.to_csv(\"annees.csv\", index=False, header=False)"
   ]
  },
  {
   "cell_type": "code",
   "execution_count": 12,
   "id": "8ad9d4b3",
   "metadata": {},
   "outputs": [],
   "source": [
    "annees.index +=1"
   ]
  },
  {
   "cell_type": "code",
   "execution_count": 13,
   "id": "ba0bb7cd",
   "metadata": {},
   "outputs": [],
   "source": [
    "annees = annees.to_dict()"
   ]
  },
  {
   "cell_type": "code",
   "execution_count": 15,
   "id": "41ae140b",
   "metadata": {},
   "outputs": [
    {
     "data": {
      "text/plain": [
       "{'year': {1: '1980',\n",
       "  2: '1981',\n",
       "  3: '1982',\n",
       "  4: '1983',\n",
       "  5: '1984',\n",
       "  6: '1985',\n",
       "  7: '1986',\n",
       "  8: '1987',\n",
       "  9: '1988',\n",
       "  10: '1989',\n",
       "  11: '1990',\n",
       "  12: '1991',\n",
       "  13: '1992',\n",
       "  14: '1993',\n",
       "  15: '1994',\n",
       "  16: '1995',\n",
       "  17: '1996',\n",
       "  18: '1997',\n",
       "  19: '1998',\n",
       "  20: '1999',\n",
       "  21: '2000',\n",
       "  22: '2001',\n",
       "  23: '2002',\n",
       "  24: '2003',\n",
       "  25: '2004',\n",
       "  26: '2005',\n",
       "  27: '2006',\n",
       "  28: '2007',\n",
       "  29: '2008',\n",
       "  30: '2009',\n",
       "  31: '2010',\n",
       "  32: '2011',\n",
       "  33: '2012',\n",
       "  34: '2013',\n",
       "  35: '2014',\n",
       "  36: '2015',\n",
       "  37: '2016',\n",
       "  38: '2017',\n",
       "  39: '2020'}}"
      ]
     },
     "execution_count": 15,
     "metadata": {},
     "output_type": "execute_result"
    }
   ],
   "source": [
    "year.index += 1\n",
    "year = year.to_dict()\n",
    "year"
   ]
  },
  {
   "cell_type": "code",
   "execution_count": null,
   "id": "ba5f767c",
   "metadata": {},
   "outputs": [],
   "source": []
  }
 ],
 "metadata": {
  "kernelspec": {
   "display_name": "Python 3 (ipykernel)",
   "language": "python",
   "name": "python3"
  },
  "language_info": {
   "codemirror_mode": {
    "name": "ipython",
    "version": 3
   },
   "file_extension": ".py",
   "mimetype": "text/x-python",
   "name": "python",
   "nbconvert_exporter": "python",
   "pygments_lexer": "ipython3",
   "version": "3.9.7"
  }
 },
 "nbformat": 4,
 "nbformat_minor": 5
}
