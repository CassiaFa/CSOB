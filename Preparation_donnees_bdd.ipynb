{
 "cells": [
  {
   "cell_type": "markdown",
   "id": "bc809b0e",
   "metadata": {},
   "source": [
    "# Première analyse du jeu de données"
   ]
  },
  {
   "cell_type": "markdown",
   "id": "2215f0c5",
   "metadata": {},
   "source": [
    "## Création du MCD à l'aide de MOCODO"
   ]
  },
  {
   "cell_type": "code",
   "execution_count": null,
   "id": "00dbc0f1",
   "metadata": {},
   "outputs": [],
   "source": [
    "%reload_ext mocodo_magic"
   ]
  },
  {
   "cell_type": "code",
   "execution_count": null,
   "id": "14e39e55",
   "metadata": {},
   "outputs": [],
   "source": []
  },
  {
   "cell_type": "markdown",
   "id": "4af62ae3",
   "metadata": {},
   "source": [
    "## Importaiton des librairies"
   ]
  },
  {
   "cell_type": "code",
   "execution_count": 1,
   "id": "7880fad0",
   "metadata": {},
   "outputs": [],
   "source": [
    "import pandas as pd\n",
    "import numpy as np\n",
    "import matplotlib.pyplot as plt"
   ]
  },
  {
   "cell_type": "markdown",
   "id": "0bc46c51",
   "metadata": {},
   "source": [
    "## Chargement des données"
   ]
  },
  {
   "cell_type": "code",
   "execution_count": 2,
   "id": "f23768c6",
   "metadata": {},
   "outputs": [
    {
     "data": {
      "text/html": [
       "<div>\n",
       "<style scoped>\n",
       "    .dataframe tbody tr th:only-of-type {\n",
       "        vertical-align: middle;\n",
       "    }\n",
       "\n",
       "    .dataframe tbody tr th {\n",
       "        vertical-align: top;\n",
       "    }\n",
       "\n",
       "    .dataframe thead th {\n",
       "        text-align: right;\n",
       "    }\n",
       "</style>\n",
       "<table border=\"1\" class=\"dataframe\">\n",
       "  <thead>\n",
       "    <tr style=\"text-align: right;\">\n",
       "      <th></th>\n",
       "      <th>Rank</th>\n",
       "      <th>Name</th>\n",
       "      <th>Platform</th>\n",
       "      <th>Year</th>\n",
       "      <th>Genre</th>\n",
       "      <th>Publisher</th>\n",
       "      <th>NA_Sales</th>\n",
       "      <th>EU_Sales</th>\n",
       "      <th>JP_Sales</th>\n",
       "      <th>Other_Sales</th>\n",
       "      <th>Global_Sales</th>\n",
       "    </tr>\n",
       "  </thead>\n",
       "  <tbody>\n",
       "    <tr>\n",
       "      <th>0</th>\n",
       "      <td>1</td>\n",
       "      <td>Wii Sports</td>\n",
       "      <td>Wii</td>\n",
       "      <td>2006.0</td>\n",
       "      <td>Sports</td>\n",
       "      <td>Nintendo</td>\n",
       "      <td>41.49</td>\n",
       "      <td>29.02</td>\n",
       "      <td>3.77</td>\n",
       "      <td>8.46</td>\n",
       "      <td>82.74</td>\n",
       "    </tr>\n",
       "    <tr>\n",
       "      <th>1</th>\n",
       "      <td>2</td>\n",
       "      <td>Super Mario Bros.</td>\n",
       "      <td>NES</td>\n",
       "      <td>1985.0</td>\n",
       "      <td>Platform</td>\n",
       "      <td>Nintendo</td>\n",
       "      <td>29.08</td>\n",
       "      <td>3.58</td>\n",
       "      <td>6.81</td>\n",
       "      <td>0.77</td>\n",
       "      <td>40.24</td>\n",
       "    </tr>\n",
       "    <tr>\n",
       "      <th>2</th>\n",
       "      <td>3</td>\n",
       "      <td>Mario Kart Wii</td>\n",
       "      <td>Wii</td>\n",
       "      <td>2008.0</td>\n",
       "      <td>Racing</td>\n",
       "      <td>Nintendo</td>\n",
       "      <td>15.85</td>\n",
       "      <td>12.88</td>\n",
       "      <td>3.79</td>\n",
       "      <td>3.31</td>\n",
       "      <td>35.82</td>\n",
       "    </tr>\n",
       "    <tr>\n",
       "      <th>3</th>\n",
       "      <td>4</td>\n",
       "      <td>Wii Sports Resort</td>\n",
       "      <td>Wii</td>\n",
       "      <td>2009.0</td>\n",
       "      <td>Sports</td>\n",
       "      <td>Nintendo</td>\n",
       "      <td>15.75</td>\n",
       "      <td>11.01</td>\n",
       "      <td>3.28</td>\n",
       "      <td>2.96</td>\n",
       "      <td>33.00</td>\n",
       "    </tr>\n",
       "    <tr>\n",
       "      <th>4</th>\n",
       "      <td>5</td>\n",
       "      <td>Pokemon Red/Pokemon Blue</td>\n",
       "      <td>GB</td>\n",
       "      <td>1996.0</td>\n",
       "      <td>Role-Playing</td>\n",
       "      <td>Nintendo</td>\n",
       "      <td>11.27</td>\n",
       "      <td>8.89</td>\n",
       "      <td>10.22</td>\n",
       "      <td>1.00</td>\n",
       "      <td>31.37</td>\n",
       "    </tr>\n",
       "  </tbody>\n",
       "</table>\n",
       "</div>"
      ],
      "text/plain": [
       "   Rank                      Name Platform    Year         Genre Publisher  \\\n",
       "0     1                Wii Sports      Wii  2006.0        Sports  Nintendo   \n",
       "1     2         Super Mario Bros.      NES  1985.0      Platform  Nintendo   \n",
       "2     3            Mario Kart Wii      Wii  2008.0        Racing  Nintendo   \n",
       "3     4         Wii Sports Resort      Wii  2009.0        Sports  Nintendo   \n",
       "4     5  Pokemon Red/Pokemon Blue       GB  1996.0  Role-Playing  Nintendo   \n",
       "\n",
       "   NA_Sales  EU_Sales  JP_Sales  Other_Sales  Global_Sales  \n",
       "0     41.49     29.02      3.77         8.46         82.74  \n",
       "1     29.08      3.58      6.81         0.77         40.24  \n",
       "2     15.85     12.88      3.79         3.31         35.82  \n",
       "3     15.75     11.01      3.28         2.96         33.00  \n",
       "4     11.27      8.89     10.22         1.00         31.37  "
      ]
     },
     "execution_count": 2,
     "metadata": {},
     "output_type": "execute_result"
    }
   ],
   "source": [
    "data = pd.read_csv(\"./vgsales.csv\")\n",
    "data.head() # affichages des 5 premières observation des datas"
   ]
  },
  {
   "cell_type": "code",
   "execution_count": 3,
   "id": "dfd04d7a",
   "metadata": {},
   "outputs": [
    {
     "name": "stdout",
     "output_type": "stream",
     "text": [
      "<class 'pandas.core.frame.DataFrame'>\n",
      "RangeIndex: 16598 entries, 0 to 16597\n",
      "Data columns (total 11 columns):\n",
      " #   Column        Non-Null Count  Dtype  \n",
      "---  ------        --------------  -----  \n",
      " 0   Rank          16598 non-null  int64  \n",
      " 1   Name          16598 non-null  object \n",
      " 2   Platform      16598 non-null  object \n",
      " 3   Year          16327 non-null  float64\n",
      " 4   Genre         16598 non-null  object \n",
      " 5   Publisher     16540 non-null  object \n",
      " 6   NA_Sales      16598 non-null  float64\n",
      " 7   EU_Sales      16598 non-null  float64\n",
      " 8   JP_Sales      16598 non-null  float64\n",
      " 9   Other_Sales   16598 non-null  float64\n",
      " 10  Global_Sales  16598 non-null  float64\n",
      "dtypes: float64(6), int64(1), object(4)\n",
      "memory usage: 1.4+ MB\n"
     ]
    }
   ],
   "source": [
    "data.info() # information générale du DataSet\n",
    "# TODO : Supprimer les valeurs manquantes"
   ]
  },
  {
   "cell_type": "code",
   "execution_count": 4,
   "id": "096a4e26",
   "metadata": {},
   "outputs": [],
   "source": [
    "data.dropna(inplace=True)\n",
    "data.reset_index(drop=True, inplace=True)"
   ]
  },
  {
   "cell_type": "code",
   "execution_count": 5,
   "id": "cea734ff",
   "metadata": {},
   "outputs": [],
   "source": [
    "data[\"Year\"] = data[\"Year\"].astype(\"int\") #pd.Int32Dtype()) # conversion dtype colonne float64 en int32 (Int32Dtype prend en charge les NaN)"
   ]
  },
  {
   "cell_type": "code",
   "execution_count": 6,
   "id": "b98202c9",
   "metadata": {},
   "outputs": [
    {
     "name": "stdout",
     "output_type": "stream",
     "text": [
      "<class 'pandas.core.frame.DataFrame'>\n",
      "RangeIndex: 16291 entries, 0 to 16290\n",
      "Data columns (total 11 columns):\n",
      " #   Column        Non-Null Count  Dtype  \n",
      "---  ------        --------------  -----  \n",
      " 0   Rank          16291 non-null  int64  \n",
      " 1   Name          16291 non-null  object \n",
      " 2   Platform      16291 non-null  object \n",
      " 3   Year          16291 non-null  int32  \n",
      " 4   Genre         16291 non-null  object \n",
      " 5   Publisher     16291 non-null  object \n",
      " 6   NA_Sales      16291 non-null  float64\n",
      " 7   EU_Sales      16291 non-null  float64\n",
      " 8   JP_Sales      16291 non-null  float64\n",
      " 9   Other_Sales   16291 non-null  float64\n",
      " 10  Global_Sales  16291 non-null  float64\n",
      "dtypes: float64(5), int32(1), int64(1), object(4)\n",
      "memory usage: 1.3+ MB\n",
      "None\n",
      "===================\n",
      "0        2006\n",
      "1        1985\n",
      "2        2008\n",
      "3        2009\n",
      "4        1996\n",
      "         ... \n",
      "16286    2002\n",
      "16287    2003\n",
      "16288    2008\n",
      "16289    2010\n",
      "16290    2003\n",
      "Name: Year, Length: 16291, dtype: int32\n"
     ]
    }
   ],
   "source": [
    "print(data.info())\n",
    "print(\"===================\")\n",
    "print(data[\"Year\"])"
   ]
  },
  {
   "cell_type": "markdown",
   "id": "d1d6c1d4",
   "metadata": {},
   "source": [
    "## Extraction des années et formatage (AAAA-MM-DD)"
   ]
  },
  {
   "cell_type": "code",
   "execution_count": 7,
   "id": "b9b26f3d",
   "metadata": {},
   "outputs": [],
   "source": [
    "year = data[\"Year\"].unique()"
   ]
  },
  {
   "cell_type": "code",
   "execution_count": 8,
   "id": "b8758791",
   "metadata": {},
   "outputs": [
    {
     "name": "stdout",
     "output_type": "stream",
     "text": [
      "[1980 1981 1982 1983 1984 1985 1986 1987 1988 1989 1990 1991 1992 1993\n",
      " 1994 1995 1996 1997 1998 1999 2000 2001 2002 2003 2004 2005 2006 2007\n",
      " 2008 2009 2010 2011 2012 2013 2014 2015 2016 2017 2020]\n"
     ]
    }
   ],
   "source": [
    "year = np.sort(year[~np.isnan(year)])\n",
    "# year = np.datetime64(year.astype(\"str\"))\n",
    "print(year)"
   ]
  },
  {
   "cell_type": "code",
   "execution_count": 9,
   "id": "57b05923",
   "metadata": {},
   "outputs": [],
   "source": [
    "# np.savetxt('annees.csv', year, delimiter=\",\")"
   ]
  },
  {
   "cell_type": "code",
   "execution_count": 10,
   "id": "02c10b6a",
   "metadata": {},
   "outputs": [],
   "source": [
    "# year = pd.DataFrame(year.astype(\"str\"), columns = [\"year\"])\n",
    "# year.to_csv(\"annees.csv\", index=False, header=False)"
   ]
  },
  {
   "cell_type": "markdown",
   "id": "8d7cbb08",
   "metadata": {},
   "source": [
    "## Création du fichier csv pour la bdd"
   ]
  },
  {
   "cell_type": "code",
   "execution_count": 11,
   "id": "181de283",
   "metadata": {},
   "outputs": [],
   "source": [
    "calendar = pd.DataFrame(year.copy().astype(\"str\"), columns=[\"year\"])"
   ]
  },
  {
   "cell_type": "code",
   "execution_count": 12,
   "id": "b650f313",
   "metadata": {},
   "outputs": [],
   "source": [
    "calendar[\"month\"] = \"01\"\n",
    "calendar[\"day\"] = \"01\""
   ]
  },
  {
   "cell_type": "code",
   "execution_count": 13,
   "id": "76f3928f",
   "metadata": {},
   "outputs": [
    {
     "name": "stdout",
     "output_type": "stream",
     "text": [
      "<class 'pandas.core.frame.DataFrame'>\n",
      "RangeIndex: 39 entries, 0 to 38\n",
      "Data columns (total 3 columns):\n",
      " #   Column  Non-Null Count  Dtype \n",
      "---  ------  --------------  ----- \n",
      " 0   year    39 non-null     object\n",
      " 1   month   39 non-null     object\n",
      " 2   day     39 non-null     object\n",
      "dtypes: object(3)\n",
      "memory usage: 1.0+ KB\n"
     ]
    }
   ],
   "source": [
    "calendar.info()"
   ]
  },
  {
   "cell_type": "code",
   "execution_count": 14,
   "id": "3ad0c37f",
   "metadata": {},
   "outputs": [],
   "source": [
    "annees = pd.to_datetime(calendar).astype(\"str\").rename(\"id_calendrier\")"
   ]
  },
  {
   "cell_type": "code",
   "execution_count": 15,
   "id": "3b143dfc",
   "metadata": {},
   "outputs": [],
   "source": [
    "annees.to_csv(\"./CSV_2DB/annees.csv\", index=False, header=True)"
   ]
  },
  {
   "cell_type": "code",
   "execution_count": 16,
   "id": "79a21824",
   "metadata": {},
   "outputs": [
    {
     "data": {
      "text/plain": [
       "{1980: '1980-01-01',\n",
       " 1981: '1981-01-01',\n",
       " 1982: '1982-01-01',\n",
       " 1983: '1983-01-01',\n",
       " 1984: '1984-01-01',\n",
       " 1985: '1985-01-01',\n",
       " 1986: '1986-01-01',\n",
       " 1987: '1987-01-01',\n",
       " 1988: '1988-01-01',\n",
       " 1989: '1989-01-01',\n",
       " 1990: '1990-01-01',\n",
       " 1991: '1991-01-01',\n",
       " 1992: '1992-01-01',\n",
       " 1993: '1993-01-01',\n",
       " 1994: '1994-01-01',\n",
       " 1995: '1995-01-01',\n",
       " 1996: '1996-01-01',\n",
       " 1997: '1997-01-01',\n",
       " 1998: '1998-01-01',\n",
       " 1999: '1999-01-01',\n",
       " 2000: '2000-01-01',\n",
       " 2001: '2001-01-01',\n",
       " 2002: '2002-01-01',\n",
       " 2003: '2003-01-01',\n",
       " 2004: '2004-01-01',\n",
       " 2005: '2005-01-01',\n",
       " 2006: '2006-01-01',\n",
       " 2007: '2007-01-01',\n",
       " 2008: '2008-01-01',\n",
       " 2009: '2009-01-01',\n",
       " 2010: '2010-01-01',\n",
       " 2011: '2011-01-01',\n",
       " 2012: '2012-01-01',\n",
       " 2013: '2013-01-01',\n",
       " 2014: '2014-01-01',\n",
       " 2015: '2015-01-01',\n",
       " 2016: '2016-01-01',\n",
       " 2017: '2017-01-01',\n",
       " 2020: '2020-01-01'}"
      ]
     },
     "execution_count": 16,
     "metadata": {},
     "output_type": "execute_result"
    }
   ],
   "source": [
    "jeux = data.copy()\n",
    "\n",
    "# year = np.sort(year[~np.isnan(year)])\n",
    "year_kv = dict((k, v) for v, k in zip(annees, year))\n",
    "# year_kv_formated = dict((k, v) for v, k in enumerate(annees, 1))\n",
    "year_kv"
   ]
  },
  {
   "cell_type": "code",
   "execution_count": 17,
   "id": "c9b13366",
   "metadata": {},
   "outputs": [],
   "source": [
    "jeux[\"Year\"] = jeux[\"Year\"].replace(year_kv)\n",
    "# jeux[\"Year\"] = jeux[\"Year\"].replace(year_kv_formated)"
   ]
  },
  {
   "cell_type": "code",
   "execution_count": 18,
   "id": "16bfe2a5",
   "metadata": {},
   "outputs": [],
   "source": [
    "# jeux.Year[jeux.Year.isnull()] = \"NULL\""
   ]
  },
  {
   "cell_type": "code",
   "execution_count": 19,
   "id": "e1c66382",
   "metadata": {},
   "outputs": [],
   "source": [
    "# jeux.Year = jeux.Year.fillna(\"NULL\", inplace=True)"
   ]
  },
  {
   "cell_type": "code",
   "execution_count": 20,
   "id": "40469186",
   "metadata": {},
   "outputs": [
    {
     "data": {
      "text/plain": [
       "0        2006-01-01\n",
       "1        1985-01-01\n",
       "2        2008-01-01\n",
       "3        2009-01-01\n",
       "4        1996-01-01\n",
       "            ...    \n",
       "16286    2002-01-01\n",
       "16287    2003-01-01\n",
       "16288    2008-01-01\n",
       "16289    2010-01-01\n",
       "16290    2003-01-01\n",
       "Name: Year, Length: 16291, dtype: object"
      ]
     },
     "execution_count": 20,
     "metadata": {},
     "output_type": "execute_result"
    }
   ],
   "source": [
    "jeux.Year"
   ]
  },
  {
   "cell_type": "code",
   "execution_count": 21,
   "id": "5bc9f863",
   "metadata": {},
   "outputs": [
    {
     "data": {
      "text/html": [
       "<div>\n",
       "<style scoped>\n",
       "    .dataframe tbody tr th:only-of-type {\n",
       "        vertical-align: middle;\n",
       "    }\n",
       "\n",
       "    .dataframe tbody tr th {\n",
       "        vertical-align: top;\n",
       "    }\n",
       "\n",
       "    .dataframe thead th {\n",
       "        text-align: right;\n",
       "    }\n",
       "</style>\n",
       "<table border=\"1\" class=\"dataframe\">\n",
       "  <thead>\n",
       "    <tr style=\"text-align: right;\">\n",
       "      <th></th>\n",
       "      <th>Rank</th>\n",
       "      <th>Name</th>\n",
       "      <th>Platform</th>\n",
       "      <th>Year</th>\n",
       "      <th>Genre</th>\n",
       "      <th>Publisher</th>\n",
       "      <th>NA_Sales</th>\n",
       "      <th>EU_Sales</th>\n",
       "      <th>JP_Sales</th>\n",
       "      <th>Other_Sales</th>\n",
       "      <th>Global_Sales</th>\n",
       "    </tr>\n",
       "  </thead>\n",
       "  <tbody>\n",
       "    <tr>\n",
       "      <th>0</th>\n",
       "      <td>1</td>\n",
       "      <td>Wii Sports</td>\n",
       "      <td>Wii</td>\n",
       "      <td>2006-01-01</td>\n",
       "      <td>Sports</td>\n",
       "      <td>Nintendo</td>\n",
       "      <td>41.49</td>\n",
       "      <td>29.02</td>\n",
       "      <td>3.77</td>\n",
       "      <td>8.46</td>\n",
       "      <td>82.74</td>\n",
       "    </tr>\n",
       "    <tr>\n",
       "      <th>1</th>\n",
       "      <td>2</td>\n",
       "      <td>Super Mario Bros.</td>\n",
       "      <td>NES</td>\n",
       "      <td>1985-01-01</td>\n",
       "      <td>Platform</td>\n",
       "      <td>Nintendo</td>\n",
       "      <td>29.08</td>\n",
       "      <td>3.58</td>\n",
       "      <td>6.81</td>\n",
       "      <td>0.77</td>\n",
       "      <td>40.24</td>\n",
       "    </tr>\n",
       "    <tr>\n",
       "      <th>2</th>\n",
       "      <td>3</td>\n",
       "      <td>Mario Kart Wii</td>\n",
       "      <td>Wii</td>\n",
       "      <td>2008-01-01</td>\n",
       "      <td>Racing</td>\n",
       "      <td>Nintendo</td>\n",
       "      <td>15.85</td>\n",
       "      <td>12.88</td>\n",
       "      <td>3.79</td>\n",
       "      <td>3.31</td>\n",
       "      <td>35.82</td>\n",
       "    </tr>\n",
       "    <tr>\n",
       "      <th>3</th>\n",
       "      <td>4</td>\n",
       "      <td>Wii Sports Resort</td>\n",
       "      <td>Wii</td>\n",
       "      <td>2009-01-01</td>\n",
       "      <td>Sports</td>\n",
       "      <td>Nintendo</td>\n",
       "      <td>15.75</td>\n",
       "      <td>11.01</td>\n",
       "      <td>3.28</td>\n",
       "      <td>2.96</td>\n",
       "      <td>33.00</td>\n",
       "    </tr>\n",
       "    <tr>\n",
       "      <th>4</th>\n",
       "      <td>5</td>\n",
       "      <td>Pokemon Red/Pokemon Blue</td>\n",
       "      <td>GB</td>\n",
       "      <td>1996-01-01</td>\n",
       "      <td>Role-Playing</td>\n",
       "      <td>Nintendo</td>\n",
       "      <td>11.27</td>\n",
       "      <td>8.89</td>\n",
       "      <td>10.22</td>\n",
       "      <td>1.00</td>\n",
       "      <td>31.37</td>\n",
       "    </tr>\n",
       "    <tr>\n",
       "      <th>...</th>\n",
       "      <td>...</td>\n",
       "      <td>...</td>\n",
       "      <td>...</td>\n",
       "      <td>...</td>\n",
       "      <td>...</td>\n",
       "      <td>...</td>\n",
       "      <td>...</td>\n",
       "      <td>...</td>\n",
       "      <td>...</td>\n",
       "      <td>...</td>\n",
       "      <td>...</td>\n",
       "    </tr>\n",
       "    <tr>\n",
       "      <th>16286</th>\n",
       "      <td>16596</td>\n",
       "      <td>Woody Woodpecker in Crazy Castle 5</td>\n",
       "      <td>GBA</td>\n",
       "      <td>2002-01-01</td>\n",
       "      <td>Platform</td>\n",
       "      <td>Kemco</td>\n",
       "      <td>0.01</td>\n",
       "      <td>0.00</td>\n",
       "      <td>0.00</td>\n",
       "      <td>0.00</td>\n",
       "      <td>0.01</td>\n",
       "    </tr>\n",
       "    <tr>\n",
       "      <th>16287</th>\n",
       "      <td>16597</td>\n",
       "      <td>Men in Black II: Alien Escape</td>\n",
       "      <td>GC</td>\n",
       "      <td>2003-01-01</td>\n",
       "      <td>Shooter</td>\n",
       "      <td>Infogrames</td>\n",
       "      <td>0.01</td>\n",
       "      <td>0.00</td>\n",
       "      <td>0.00</td>\n",
       "      <td>0.00</td>\n",
       "      <td>0.01</td>\n",
       "    </tr>\n",
       "    <tr>\n",
       "      <th>16288</th>\n",
       "      <td>16598</td>\n",
       "      <td>SCORE International Baja 1000: The Official Game</td>\n",
       "      <td>PS2</td>\n",
       "      <td>2008-01-01</td>\n",
       "      <td>Racing</td>\n",
       "      <td>Activision</td>\n",
       "      <td>0.00</td>\n",
       "      <td>0.00</td>\n",
       "      <td>0.00</td>\n",
       "      <td>0.00</td>\n",
       "      <td>0.01</td>\n",
       "    </tr>\n",
       "    <tr>\n",
       "      <th>16289</th>\n",
       "      <td>16599</td>\n",
       "      <td>Know How 2</td>\n",
       "      <td>DS</td>\n",
       "      <td>2010-01-01</td>\n",
       "      <td>Puzzle</td>\n",
       "      <td>7G//AMES</td>\n",
       "      <td>0.00</td>\n",
       "      <td>0.01</td>\n",
       "      <td>0.00</td>\n",
       "      <td>0.00</td>\n",
       "      <td>0.01</td>\n",
       "    </tr>\n",
       "    <tr>\n",
       "      <th>16290</th>\n",
       "      <td>16600</td>\n",
       "      <td>Spirits &amp; Spells</td>\n",
       "      <td>GBA</td>\n",
       "      <td>2003-01-01</td>\n",
       "      <td>Platform</td>\n",
       "      <td>Wanadoo</td>\n",
       "      <td>0.01</td>\n",
       "      <td>0.00</td>\n",
       "      <td>0.00</td>\n",
       "      <td>0.00</td>\n",
       "      <td>0.01</td>\n",
       "    </tr>\n",
       "  </tbody>\n",
       "</table>\n",
       "<p>16291 rows × 11 columns</p>\n",
       "</div>"
      ],
      "text/plain": [
       "        Rank                                              Name Platform  \\\n",
       "0          1                                        Wii Sports      Wii   \n",
       "1          2                                 Super Mario Bros.      NES   \n",
       "2          3                                    Mario Kart Wii      Wii   \n",
       "3          4                                 Wii Sports Resort      Wii   \n",
       "4          5                          Pokemon Red/Pokemon Blue       GB   \n",
       "...      ...                                               ...      ...   \n",
       "16286  16596                Woody Woodpecker in Crazy Castle 5      GBA   \n",
       "16287  16597                     Men in Black II: Alien Escape       GC   \n",
       "16288  16598  SCORE International Baja 1000: The Official Game      PS2   \n",
       "16289  16599                                        Know How 2       DS   \n",
       "16290  16600                                  Spirits & Spells      GBA   \n",
       "\n",
       "             Year         Genre   Publisher  NA_Sales  EU_Sales  JP_Sales  \\\n",
       "0      2006-01-01        Sports    Nintendo     41.49     29.02      3.77   \n",
       "1      1985-01-01      Platform    Nintendo     29.08      3.58      6.81   \n",
       "2      2008-01-01        Racing    Nintendo     15.85     12.88      3.79   \n",
       "3      2009-01-01        Sports    Nintendo     15.75     11.01      3.28   \n",
       "4      1996-01-01  Role-Playing    Nintendo     11.27      8.89     10.22   \n",
       "...           ...           ...         ...       ...       ...       ...   \n",
       "16286  2002-01-01      Platform       Kemco      0.01      0.00      0.00   \n",
       "16287  2003-01-01       Shooter  Infogrames      0.01      0.00      0.00   \n",
       "16288  2008-01-01        Racing  Activision      0.00      0.00      0.00   \n",
       "16289  2010-01-01        Puzzle    7G//AMES      0.00      0.01      0.00   \n",
       "16290  2003-01-01      Platform     Wanadoo      0.01      0.00      0.00   \n",
       "\n",
       "       Other_Sales  Global_Sales  \n",
       "0             8.46         82.74  \n",
       "1             0.77         40.24  \n",
       "2             3.31         35.82  \n",
       "3             2.96         33.00  \n",
       "4             1.00         31.37  \n",
       "...            ...           ...  \n",
       "16286         0.00          0.01  \n",
       "16287         0.00          0.01  \n",
       "16288         0.00          0.01  \n",
       "16289         0.00          0.01  \n",
       "16290         0.00          0.01  \n",
       "\n",
       "[16291 rows x 11 columns]"
      ]
     },
     "execution_count": 21,
     "metadata": {},
     "output_type": "execute_result"
    }
   ],
   "source": [
    "jeux"
   ]
  },
  {
   "cell_type": "code",
   "execution_count": 22,
   "id": "a0600176",
   "metadata": {},
   "outputs": [],
   "source": [
    "# LOAD DATA LOCAL INFILE './annees.csv' \n",
    "# INTO TABLE calendrier\n",
    "# FIELDS TERMINATED BY ','\n",
    "# ENCLOSED BY '\"'\n",
    "# LINES TERMINATED BY '\\n'\n",
    "# IGNORE 1 ROWS;"
   ]
  },
  {
   "cell_type": "markdown",
   "id": "e6225cd1",
   "metadata": {},
   "source": [
    "## Extraction \"Plateform\" vers un CSV"
   ]
  },
  {
   "cell_type": "code",
   "execution_count": 23,
   "id": "097bc231",
   "metadata": {},
   "outputs": [
    {
     "data": {
      "text/plain": [
       "array(['2600', '3DO', '3DS', 'DC', 'DS', 'GB', 'GBA', 'GC', 'GEN', 'GG',\n",
       "       'N64', 'NES', 'NG', 'PC', 'PCFX', 'PS', 'PS2', 'PS3', 'PS4', 'PSP',\n",
       "       'PSV', 'SAT', 'SCD', 'SNES', 'TG16', 'WS', 'Wii', 'WiiU', 'X360',\n",
       "       'XB', 'XOne'], dtype=object)"
      ]
     },
     "execution_count": 23,
     "metadata": {},
     "output_type": "execute_result"
    }
   ],
   "source": [
    "console = data[\"Platform\"].unique() # Extraction des valeurs console unique\n",
    "console = np.sort(console) # Trie des valeurs\n",
    "console"
   ]
  },
  {
   "cell_type": "code",
   "execution_count": 24,
   "id": "eb0579d8",
   "metadata": {},
   "outputs": [
    {
     "name": "stdout",
     "output_type": "stream",
     "text": [
      "{'2600': 1, '3DO': 2, '3DS': 3, 'DC': 4, 'DS': 5, 'GB': 6, 'GBA': 7, 'GC': 8, 'GEN': 9, 'GG': 10, 'N64': 11, 'NES': 12, 'NG': 13, 'PC': 14, 'PCFX': 15, 'PS': 16, 'PS2': 17, 'PS3': 18, 'PS4': 19, 'PSP': 20, 'PSV': 21, 'SAT': 22, 'SCD': 23, 'SNES': 24, 'TG16': 25, 'WS': 26, 'Wii': 27, 'WiiU': 28, 'X360': 29, 'XB': 30, 'XOne': 31}\n"
     ]
    }
   ],
   "source": [
    "console_kv = dict((k, v) for v, k in enumerate(console, 1)) # mise des données sous forme de dictionnaire\n",
    "print(console_kv)"
   ]
  },
  {
   "cell_type": "code",
   "execution_count": 25,
   "id": "d8867124",
   "metadata": {},
   "outputs": [],
   "source": [
    "jeux[\"Platform\"] = jeux[\"Platform\"].replace(console_kv)"
   ]
  },
  {
   "cell_type": "code",
   "execution_count": 26,
   "id": "dcf23c00",
   "metadata": {},
   "outputs": [],
   "source": [
    "console = pd.Series(console, name=\"nom_console\")\n",
    "console.index += 1\n",
    "console.to_csv(\"./CSV_2DB/consoles.csv\", index=True, header=True)"
   ]
  },
  {
   "cell_type": "markdown",
   "id": "6fdbc2e2",
   "metadata": {},
   "source": [
    "## Extraction \"Genre\" vers un CSV"
   ]
  },
  {
   "cell_type": "code",
   "execution_count": 27,
   "id": "48dde53c",
   "metadata": {},
   "outputs": [
    {
     "data": {
      "text/plain": [
       "array(['Action', 'Adventure', 'Fighting', 'Misc', 'Platform', 'Puzzle',\n",
       "       'Racing', 'Role-Playing', 'Shooter', 'Simulation', 'Sports',\n",
       "       'Strategy'], dtype=object)"
      ]
     },
     "execution_count": 27,
     "metadata": {},
     "output_type": "execute_result"
    }
   ],
   "source": [
    "genre = data[\"Genre\"].unique() # Extraction des valeurs console unique\n",
    "genre = np.sort(genre) # Trie des valeurs\n",
    "genre"
   ]
  },
  {
   "cell_type": "code",
   "execution_count": 28,
   "id": "6d5bed0a",
   "metadata": {},
   "outputs": [
    {
     "name": "stdout",
     "output_type": "stream",
     "text": [
      "{'Action': 1, 'Adventure': 2, 'Fighting': 3, 'Misc': 4, 'Platform': 5, 'Puzzle': 6, 'Racing': 7, 'Role-Playing': 8, 'Shooter': 9, 'Simulation': 10, 'Sports': 11, 'Strategy': 12}\n"
     ]
    }
   ],
   "source": [
    "genre_kv = dict((k, v) for v, k in enumerate(genre, 1)) # mise des données sous forme de dictionnaire\n",
    "print(genre_kv)"
   ]
  },
  {
   "cell_type": "code",
   "execution_count": 29,
   "id": "421ba2fa",
   "metadata": {},
   "outputs": [],
   "source": [
    "jeux[\"Genre\"] = jeux[\"Genre\"].replace(genre_kv)"
   ]
  },
  {
   "cell_type": "code",
   "execution_count": 30,
   "id": "e0d5ea08",
   "metadata": {},
   "outputs": [],
   "source": [
    "genre = pd.Series(genre, name=\"nom_genre\")\n",
    "genre.index += 1\n",
    "genre.to_csv(\"./CSV_2DB/genres.csv\", index=True, header=True)"
   ]
  },
  {
   "cell_type": "markdown",
   "id": "e9cb39ec",
   "metadata": {},
   "source": [
    "## Extraction \"Publisher\" vers un CSV"
   ]
  },
  {
   "cell_type": "code",
   "execution_count": 31,
   "id": "132ea4b8",
   "metadata": {},
   "outputs": [],
   "source": [
    "editeur = data[\"Publisher\"].unique() # Extraction des valeurs console unique\n",
    "editeur = [x for x in editeur if str(x) != 'nan']\n",
    "editeur = np.sort(editeur) # Trie des valeurs"
   ]
  },
  {
   "cell_type": "code",
   "execution_count": 32,
   "id": "2e9d5f2a",
   "metadata": {},
   "outputs": [],
   "source": [
    "editeur = pd.Series(editeur, name=\"nom_editeur\")\n",
    "editeur.index += 1\n",
    "editeur.to_csv(\"./CSV_2DB/editeurs.csv\", index=True, header=True)"
   ]
  },
  {
   "cell_type": "code",
   "execution_count": 33,
   "id": "92977fd1",
   "metadata": {},
   "outputs": [],
   "source": [
    "editeur_kv = dict((k, v) for v, k in enumerate(editeur, 1)) # mise des données sous forme de dictionnaire"
   ]
  },
  {
   "cell_type": "code",
   "execution_count": 34,
   "id": "b9fd1298",
   "metadata": {},
   "outputs": [],
   "source": [
    "# jeux.Publisher[jeux.Publisher.isnull()] =\"NULL\""
   ]
  },
  {
   "cell_type": "code",
   "execution_count": 35,
   "id": "42e3376c",
   "metadata": {},
   "outputs": [],
   "source": [
    "jeux[\"Publisher\"] = jeux[\"Publisher\"].replace(editeur_kv).astype(\"str\")\n",
    "# jeux[\"Publisher\"] = jeux[\"Publisher\"].replace(editeur_kv).astype(pd.Int32Dtype())"
   ]
  },
  {
   "cell_type": "code",
   "execution_count": 36,
   "id": "d8e592a7",
   "metadata": {},
   "outputs": [],
   "source": [
    "jeux = jeux.drop(columns=[\"Rank\"])"
   ]
  },
  {
   "cell_type": "code",
   "execution_count": 37,
   "id": "a2932596",
   "metadata": {},
   "outputs": [],
   "source": [
    "jeux = jeux[[\"Name\", \"NA_Sales\", \"EU_Sales\", \"JP_Sales\", \"Other_Sales\", \"Global_Sales\", \"Year\", \"Platform\", \"Genre\", \"Publisher\"]]\n",
    "jeux = jeux.rename(columns={\"Name\" : \"nom_jeu\", \"NA_Sales\" : \"na_vente_jeu\", \"EU_Sales\" : \"eu_vente_jeu\", \"JP_Sales\" : \"jp_vente_jeu\", \"Other_Sales\" : \"autre_vente_jeu\", \"Global_Sales\" : \"global_vente_jeu\", \"Year\" : \"id_calendrier\", \"Platform\" : \"id_console\", \"Genre\" : \"id_genre\", \"Publisher\" : \"id_editeur\"})"
   ]
  },
  {
   "cell_type": "code",
   "execution_count": 38,
   "id": "44cae800",
   "metadata": {},
   "outputs": [],
   "source": [
    "jeux.index += 1\n",
    "jeux.to_csv(\"./CSV_2DB/jeux.csv\", index=True, header=True)"
   ]
  },
  {
   "cell_type": "code",
   "execution_count": 39,
   "id": "88d60f38",
   "metadata": {},
   "outputs": [
    {
     "data": {
      "text/plain": [
       "RangeIndex(start=1, stop=577, step=1)"
      ]
     },
     "execution_count": 39,
     "metadata": {},
     "output_type": "execute_result"
    }
   ],
   "source": [
    "editeur.index"
   ]
  },
  {
   "cell_type": "code",
   "execution_count": 42,
   "id": "2fff53a9",
   "metadata": {},
   "outputs": [
    {
     "data": {
      "text/plain": [
       "array([  1,   2,   3,   4,   5,   6,   7,   8,   9,  10,  11,  12,  13,\n",
       "        14,  15,  16,  17,  18,  19,  20,  21,  22,  23,  24,  25,  26,\n",
       "        27,  28,  29,  30,  31,  32,  33,  34,  35,  36,  37,  38,  39,\n",
       "        40,  41,  42,  43,  44,  45,  46,  47,  48,  49,  50,  51,  52,\n",
       "        53,  54,  55,  56,  57,  58,  59,  60,  61,  62,  63,  64,  65,\n",
       "        66,  67,  68,  69,  70,  71,  72,  73,  74,  75,  76,  77,  78,\n",
       "        79,  80,  81,  82,  83,  84,  85,  86,  87,  88,  89,  90,  91,\n",
       "        92,  93,  94,  95,  96,  97,  98,  99, 100, 101, 102, 103, 104,\n",
       "       105, 106, 107, 108, 109, 110, 111, 112, 113, 114, 115, 116, 117,\n",
       "       118, 119, 120, 121, 122, 123, 124, 125, 126, 127, 128, 129, 130,\n",
       "       131, 132, 133, 134, 135, 136, 137, 138, 139, 140, 141, 142, 143,\n",
       "       144, 145, 146, 147, 148, 149, 150, 151, 152, 153, 154, 155, 156,\n",
       "       157, 158, 159, 160, 161, 162, 163, 164, 165, 166, 167, 168, 169,\n",
       "       170, 171, 172, 173, 174, 175, 176, 177, 178, 179, 180, 181, 182,\n",
       "       183, 184, 185, 186, 187, 188, 189, 190, 191, 192, 193, 194, 195,\n",
       "       196, 197, 198, 199, 200, 201, 202, 203, 204, 205, 206, 207, 208,\n",
       "       209, 210, 211, 212, 213, 214, 215, 216, 217, 218, 219, 220, 221,\n",
       "       222, 223, 224, 225, 226, 227, 228, 229, 230, 231, 232, 233, 234,\n",
       "       235, 236, 237, 238, 239, 240, 241, 242, 243, 244, 245, 246, 247,\n",
       "       248, 249, 250, 251, 252, 253, 254, 255, 256, 257, 258, 259, 260,\n",
       "       261, 262, 263, 264, 265, 266, 267, 268, 269, 270, 271, 272, 273,\n",
       "       274, 275, 276, 277, 278, 279, 280, 281, 282, 283, 284, 285, 286,\n",
       "       287, 288, 289, 290, 291, 292, 293, 294, 295, 296, 297, 298, 299,\n",
       "       300, 301, 302, 303, 304, 305, 306, 307, 308, 309, 310, 311, 312,\n",
       "       313, 314, 315, 316, 317, 318, 319, 320, 321, 322, 323, 324, 325,\n",
       "       326, 327, 328, 329, 330, 331, 332, 333, 334, 335, 336, 337, 338,\n",
       "       339, 340, 341, 342, 343, 344, 345, 346, 347, 348, 349, 350, 351,\n",
       "       352, 353, 354, 355, 356, 357, 358, 359, 360, 361, 362, 363, 364,\n",
       "       365, 366, 367, 368, 369, 370, 371, 372, 373, 374, 375, 376, 377,\n",
       "       378, 379, 380, 381, 382, 383, 384, 385, 386, 387, 388, 389, 390,\n",
       "       391, 392, 393, 394, 395, 396, 397, 398, 399, 400, 401, 402, 403,\n",
       "       404, 405, 406, 407, 408, 409, 410, 411, 412, 413, 414, 415, 416,\n",
       "       417, 418, 419, 420, 421, 422, 423, 424, 425, 426, 427, 428, 429,\n",
       "       430, 431, 432, 433, 434, 435, 436, 437, 438, 439, 440, 441, 442,\n",
       "       443, 444, 445, 446, 447, 448, 449, 450, 451, 452, 453, 454, 455,\n",
       "       456, 457, 458, 459, 460, 461, 462, 463, 464, 465, 466, 467, 468,\n",
       "       469, 470, 471, 472, 473, 474, 475, 476, 477, 478, 479, 480, 481,\n",
       "       482, 483, 484, 485, 486, 487, 488, 489, 490, 491, 492, 493, 494,\n",
       "       495, 496, 497, 498, 499, 500, 501, 502, 503, 504, 505, 506, 507,\n",
       "       508, 509, 510, 511, 512, 513, 514, 515, 516, 517, 518, 519, 520,\n",
       "       521, 522, 523, 524, 525, 526, 527, 528, 529, 530, 531, 532, 533,\n",
       "       534, 535, 536, 537, 538, 539, 540, 541, 542, 543, 544, 545, 546,\n",
       "       547, 548, 549, 550, 551, 552, 553, 554, 555, 556, 557, 558, 559,\n",
       "       560, 561, 562, 563, 564, 565, 566, 567, 568, 569, 570, 571, 572,\n",
       "       573, 574, 575, 576])"
      ]
     },
     "execution_count": 42,
     "metadata": {},
     "output_type": "execute_result"
    }
   ],
   "source": [
    "jeux[\"id_editeur\"].astype(\"int\").sort_values().unique()"
   ]
  },
  {
   "cell_type": "code",
   "execution_count": 43,
   "id": "74835c18",
   "metadata": {},
   "outputs": [
    {
     "data": {
      "text/plain": [
       "RangeIndex(start=1, stop=577, step=1)"
      ]
     },
     "execution_count": 43,
     "metadata": {},
     "output_type": "execute_result"
    }
   ],
   "source": [
    "editeur.index"
   ]
  },
  {
   "cell_type": "code",
   "execution_count": 46,
   "id": "c9e11ea9",
   "metadata": {},
   "outputs": [
    {
     "ename": "KeyError",
     "evalue": "577",
     "output_type": "error",
     "traceback": [
      "\u001b[1;31m---------------------------------------------------------------------------\u001b[0m",
      "\u001b[1;31mValueError\u001b[0m                                Traceback (most recent call last)",
      "\u001b[1;32m~\\anaconda3\\lib\\site-packages\\pandas\\core\\indexes\\range.py\u001b[0m in \u001b[0;36mget_loc\u001b[1;34m(self, key, method, tolerance)\u001b[0m\n\u001b[0;32m    384\u001b[0m                 \u001b[1;32mtry\u001b[0m\u001b[1;33m:\u001b[0m\u001b[1;33m\u001b[0m\u001b[1;33m\u001b[0m\u001b[0m\n\u001b[1;32m--> 385\u001b[1;33m                     \u001b[1;32mreturn\u001b[0m \u001b[0mself\u001b[0m\u001b[1;33m.\u001b[0m\u001b[0m_range\u001b[0m\u001b[1;33m.\u001b[0m\u001b[0mindex\u001b[0m\u001b[1;33m(\u001b[0m\u001b[0mnew_key\u001b[0m\u001b[1;33m)\u001b[0m\u001b[1;33m\u001b[0m\u001b[1;33m\u001b[0m\u001b[0m\n\u001b[0m\u001b[0;32m    386\u001b[0m                 \u001b[1;32mexcept\u001b[0m \u001b[0mValueError\u001b[0m \u001b[1;32mas\u001b[0m \u001b[0merr\u001b[0m\u001b[1;33m:\u001b[0m\u001b[1;33m\u001b[0m\u001b[1;33m\u001b[0m\u001b[0m\n",
      "\u001b[1;31mValueError\u001b[0m: 577 is not in range",
      "\nThe above exception was the direct cause of the following exception:\n",
      "\u001b[1;31mKeyError\u001b[0m                                  Traceback (most recent call last)",
      "\u001b[1;32mC:\\Users\\UTILIS~1\\AppData\\Local\\Temp/ipykernel_18820/4125514417.py\u001b[0m in \u001b[0;36m<module>\u001b[1;34m\u001b[0m\n\u001b[1;32m----> 1\u001b[1;33m \u001b[0mediteur\u001b[0m\u001b[1;33m[\u001b[0m\u001b[1;36m577\u001b[0m\u001b[1;33m]\u001b[0m\u001b[1;33m\u001b[0m\u001b[1;33m\u001b[0m\u001b[0m\n\u001b[0m",
      "\u001b[1;32m~\\anaconda3\\lib\\site-packages\\pandas\\core\\series.py\u001b[0m in \u001b[0;36m__getitem__\u001b[1;34m(self, key)\u001b[0m\n\u001b[0;32m    940\u001b[0m \u001b[1;33m\u001b[0m\u001b[0m\n\u001b[0;32m    941\u001b[0m         \u001b[1;32melif\u001b[0m \u001b[0mkey_is_scalar\u001b[0m\u001b[1;33m:\u001b[0m\u001b[1;33m\u001b[0m\u001b[1;33m\u001b[0m\u001b[0m\n\u001b[1;32m--> 942\u001b[1;33m             \u001b[1;32mreturn\u001b[0m \u001b[0mself\u001b[0m\u001b[1;33m.\u001b[0m\u001b[0m_get_value\u001b[0m\u001b[1;33m(\u001b[0m\u001b[0mkey\u001b[0m\u001b[1;33m)\u001b[0m\u001b[1;33m\u001b[0m\u001b[1;33m\u001b[0m\u001b[0m\n\u001b[0m\u001b[0;32m    943\u001b[0m \u001b[1;33m\u001b[0m\u001b[0m\n\u001b[0;32m    944\u001b[0m         \u001b[1;32mif\u001b[0m \u001b[0mis_hashable\u001b[0m\u001b[1;33m(\u001b[0m\u001b[0mkey\u001b[0m\u001b[1;33m)\u001b[0m\u001b[1;33m:\u001b[0m\u001b[1;33m\u001b[0m\u001b[1;33m\u001b[0m\u001b[0m\n",
      "\u001b[1;32m~\\anaconda3\\lib\\site-packages\\pandas\\core\\series.py\u001b[0m in \u001b[0;36m_get_value\u001b[1;34m(self, label, takeable)\u001b[0m\n\u001b[0;32m   1049\u001b[0m \u001b[1;33m\u001b[0m\u001b[0m\n\u001b[0;32m   1050\u001b[0m         \u001b[1;31m# Similar to Index.get_value, but we do not fall back to positional\u001b[0m\u001b[1;33m\u001b[0m\u001b[1;33m\u001b[0m\u001b[0m\n\u001b[1;32m-> 1051\u001b[1;33m         \u001b[0mloc\u001b[0m \u001b[1;33m=\u001b[0m \u001b[0mself\u001b[0m\u001b[1;33m.\u001b[0m\u001b[0mindex\u001b[0m\u001b[1;33m.\u001b[0m\u001b[0mget_loc\u001b[0m\u001b[1;33m(\u001b[0m\u001b[0mlabel\u001b[0m\u001b[1;33m)\u001b[0m\u001b[1;33m\u001b[0m\u001b[1;33m\u001b[0m\u001b[0m\n\u001b[0m\u001b[0;32m   1052\u001b[0m         \u001b[1;32mreturn\u001b[0m \u001b[0mself\u001b[0m\u001b[1;33m.\u001b[0m\u001b[0mindex\u001b[0m\u001b[1;33m.\u001b[0m\u001b[0m_get_values_for_loc\u001b[0m\u001b[1;33m(\u001b[0m\u001b[0mself\u001b[0m\u001b[1;33m,\u001b[0m \u001b[0mloc\u001b[0m\u001b[1;33m,\u001b[0m \u001b[0mlabel\u001b[0m\u001b[1;33m)\u001b[0m\u001b[1;33m\u001b[0m\u001b[1;33m\u001b[0m\u001b[0m\n\u001b[0;32m   1053\u001b[0m \u001b[1;33m\u001b[0m\u001b[0m\n",
      "\u001b[1;32m~\\anaconda3\\lib\\site-packages\\pandas\\core\\indexes\\range.py\u001b[0m in \u001b[0;36mget_loc\u001b[1;34m(self, key, method, tolerance)\u001b[0m\n\u001b[0;32m    385\u001b[0m                     \u001b[1;32mreturn\u001b[0m \u001b[0mself\u001b[0m\u001b[1;33m.\u001b[0m\u001b[0m_range\u001b[0m\u001b[1;33m.\u001b[0m\u001b[0mindex\u001b[0m\u001b[1;33m(\u001b[0m\u001b[0mnew_key\u001b[0m\u001b[1;33m)\u001b[0m\u001b[1;33m\u001b[0m\u001b[1;33m\u001b[0m\u001b[0m\n\u001b[0;32m    386\u001b[0m                 \u001b[1;32mexcept\u001b[0m \u001b[0mValueError\u001b[0m \u001b[1;32mas\u001b[0m \u001b[0merr\u001b[0m\u001b[1;33m:\u001b[0m\u001b[1;33m\u001b[0m\u001b[1;33m\u001b[0m\u001b[0m\n\u001b[1;32m--> 387\u001b[1;33m                     \u001b[1;32mraise\u001b[0m \u001b[0mKeyError\u001b[0m\u001b[1;33m(\u001b[0m\u001b[0mkey\u001b[0m\u001b[1;33m)\u001b[0m \u001b[1;32mfrom\u001b[0m \u001b[0merr\u001b[0m\u001b[1;33m\u001b[0m\u001b[1;33m\u001b[0m\u001b[0m\n\u001b[0m\u001b[0;32m    388\u001b[0m             \u001b[1;32mraise\u001b[0m \u001b[0mKeyError\u001b[0m\u001b[1;33m(\u001b[0m\u001b[0mkey\u001b[0m\u001b[1;33m)\u001b[0m\u001b[1;33m\u001b[0m\u001b[1;33m\u001b[0m\u001b[0m\n\u001b[0;32m    389\u001b[0m         \u001b[1;32mreturn\u001b[0m \u001b[0msuper\u001b[0m\u001b[1;33m(\u001b[0m\u001b[1;33m)\u001b[0m\u001b[1;33m.\u001b[0m\u001b[0mget_loc\u001b[0m\u001b[1;33m(\u001b[0m\u001b[0mkey\u001b[0m\u001b[1;33m,\u001b[0m \u001b[0mmethod\u001b[0m\u001b[1;33m=\u001b[0m\u001b[0mmethod\u001b[0m\u001b[1;33m,\u001b[0m \u001b[0mtolerance\u001b[0m\u001b[1;33m=\u001b[0m\u001b[0mtolerance\u001b[0m\u001b[1;33m)\u001b[0m\u001b[1;33m\u001b[0m\u001b[1;33m\u001b[0m\u001b[0m\n",
      "\u001b[1;31mKeyError\u001b[0m: 577"
     ]
    }
   ],
   "source": [
    "editeur[577]"
   ]
  },
  {
   "cell_type": "code",
   "execution_count": null,
   "id": "a0ab7fd5",
   "metadata": {},
   "outputs": [],
   "source": []
  }
 ],
 "metadata": {
  "kernelspec": {
   "display_name": "Python 3 (ipykernel)",
   "language": "python",
   "name": "python3"
  },
  "language_info": {
   "codemirror_mode": {
    "name": "ipython",
    "version": 3
   },
   "file_extension": ".py",
   "mimetype": "text/x-python",
   "name": "python",
   "nbconvert_exporter": "python",
   "pygments_lexer": "ipython3",
   "version": "3.9.7"
  },
  "toc-autonumbering": true,
  "toc-showcode": false,
  "toc-showmarkdowntxt": false
 },
 "nbformat": 4,
 "nbformat_minor": 5
}
